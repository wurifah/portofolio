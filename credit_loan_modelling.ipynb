{
  "nbformat": 4,
  "nbformat_minor": 0,
  "metadata": {
    "colab": {
      "name": "credit_loan_modelling.ipynb",
      "provenance": [],
      "authorship_tag": "ABX9TyPHnSWSAcZf8+lM2neHwF3X",
      "include_colab_link": true
    },
    "kernelspec": {
      "name": "python3",
      "display_name": "Python 3"
    },
    "language_info": {
      "name": "python"
    }
  },
  "cells": [
    {
      "cell_type": "markdown",
      "metadata": {
        "id": "view-in-github",
        "colab_type": "text"
      },
      "source": [
        "<a href=\"https://colab.research.google.com/github/wurifah/portofolio/blob/main/credit_loan_modelling.ipynb\" target=\"_parent\"><img src=\"https://colab.research.google.com/assets/colab-badge.svg\" alt=\"Open In Colab\"/></a>"
      ]
    },
    {
      "cell_type": "code",
      "source": [
        "import pandas as pd\n",
        "import numpy as np"
      ],
      "metadata": {
        "id": "MOH8a9yQn4ol"
      },
      "execution_count": 1,
      "outputs": []
    },
    {
      "cell_type": "code",
      "source": [
        "df = pd.read_excel(\"credit_loan_feature_engineering.xlsx\")\n",
        "df"
      ],
      "metadata": {
        "colab": {
          "base_uri": "https://localhost:8080/",
          "height": 424
        },
        "id": "GRofE6lnoBGS",
        "outputId": "59da4b3a-8421-40a7-ccd6-953a4d949b3f"
      },
      "execution_count": 2,
      "outputs": [
        {
          "output_type": "execute_result",
          "data": {
            "text/plain": [
              "        Unnamed: 0  loan_amnt        term  int_rate  installment grade  \\\n",
              "0                0    34362.5   36 months     24.74      1006.47     G   \n",
              "1                1    34362.5   60 months     24.74      1006.47     G   \n",
              "2                2    34362.5   60 months     24.74      1006.47     G   \n",
              "3                3    34362.5   36 months     24.74      1006.47     F   \n",
              "4                4    34362.5   60 months     24.74      1006.47     F   \n",
              "...            ...        ...         ...       ...          ...   ...   \n",
              "242054      242054     6000.0   60 months     23.40       170.53     E   \n",
              "242055      242055    15000.0   36 months     16.99       534.72     D   \n",
              "242056      242056     8525.0   60 months     18.25       217.65     D   \n",
              "242057      242057    18000.0   36 months      7.90       563.23     A   \n",
              "242058      242058    22000.0   60 months     19.97       582.50     D   \n",
              "\n",
              "       emp_length home_ownership  annual_inc             purpose status  \n",
              "0        < 1 year           RENT    147500.0      small_business   good  \n",
              "1         3 years       MORTGAGE    147500.0      small_business   good  \n",
              "2       10+ years       MORTGAGE    147500.0  debt_consolidation   good  \n",
              "3       10+ years           RENT    147500.0      small_business   good  \n",
              "4       10+ years       MORTGAGE    147500.0  debt_consolidation   good  \n",
              "...           ...            ...         ...                 ...    ...  \n",
              "242054  10+ years       MORTGAGE     45600.0             medical    bad  \n",
              "242055  10+ years           RENT     50000.0  debt_consolidation    bad  \n",
              "242056    5 years       MORTGAGE     37536.0             medical    bad  \n",
              "242057    3 years           RENT     90000.0  debt_consolidation    bad  \n",
              "242058  10+ years       MORTGAGE     78000.0  debt_consolidation    bad  \n",
              "\n",
              "[242059 rows x 11 columns]"
            ],
            "text/html": [
              "\n",
              "  <div id=\"df-c1c0bb99-faf0-415d-a9b2-8cfd0c1dd732\">\n",
              "    <div class=\"colab-df-container\">\n",
              "      <div>\n",
              "<style scoped>\n",
              "    .dataframe tbody tr th:only-of-type {\n",
              "        vertical-align: middle;\n",
              "    }\n",
              "\n",
              "    .dataframe tbody tr th {\n",
              "        vertical-align: top;\n",
              "    }\n",
              "\n",
              "    .dataframe thead th {\n",
              "        text-align: right;\n",
              "    }\n",
              "</style>\n",
              "<table border=\"1\" class=\"dataframe\">\n",
              "  <thead>\n",
              "    <tr style=\"text-align: right;\">\n",
              "      <th></th>\n",
              "      <th>Unnamed: 0</th>\n",
              "      <th>loan_amnt</th>\n",
              "      <th>term</th>\n",
              "      <th>int_rate</th>\n",
              "      <th>installment</th>\n",
              "      <th>grade</th>\n",
              "      <th>emp_length</th>\n",
              "      <th>home_ownership</th>\n",
              "      <th>annual_inc</th>\n",
              "      <th>purpose</th>\n",
              "      <th>status</th>\n",
              "    </tr>\n",
              "  </thead>\n",
              "  <tbody>\n",
              "    <tr>\n",
              "      <th>0</th>\n",
              "      <td>0</td>\n",
              "      <td>34362.5</td>\n",
              "      <td>36 months</td>\n",
              "      <td>24.74</td>\n",
              "      <td>1006.47</td>\n",
              "      <td>G</td>\n",
              "      <td>&lt; 1 year</td>\n",
              "      <td>RENT</td>\n",
              "      <td>147500.0</td>\n",
              "      <td>small_business</td>\n",
              "      <td>good</td>\n",
              "    </tr>\n",
              "    <tr>\n",
              "      <th>1</th>\n",
              "      <td>1</td>\n",
              "      <td>34362.5</td>\n",
              "      <td>60 months</td>\n",
              "      <td>24.74</td>\n",
              "      <td>1006.47</td>\n",
              "      <td>G</td>\n",
              "      <td>3 years</td>\n",
              "      <td>MORTGAGE</td>\n",
              "      <td>147500.0</td>\n",
              "      <td>small_business</td>\n",
              "      <td>good</td>\n",
              "    </tr>\n",
              "    <tr>\n",
              "      <th>2</th>\n",
              "      <td>2</td>\n",
              "      <td>34362.5</td>\n",
              "      <td>60 months</td>\n",
              "      <td>24.74</td>\n",
              "      <td>1006.47</td>\n",
              "      <td>G</td>\n",
              "      <td>10+ years</td>\n",
              "      <td>MORTGAGE</td>\n",
              "      <td>147500.0</td>\n",
              "      <td>debt_consolidation</td>\n",
              "      <td>good</td>\n",
              "    </tr>\n",
              "    <tr>\n",
              "      <th>3</th>\n",
              "      <td>3</td>\n",
              "      <td>34362.5</td>\n",
              "      <td>36 months</td>\n",
              "      <td>24.74</td>\n",
              "      <td>1006.47</td>\n",
              "      <td>F</td>\n",
              "      <td>10+ years</td>\n",
              "      <td>RENT</td>\n",
              "      <td>147500.0</td>\n",
              "      <td>small_business</td>\n",
              "      <td>good</td>\n",
              "    </tr>\n",
              "    <tr>\n",
              "      <th>4</th>\n",
              "      <td>4</td>\n",
              "      <td>34362.5</td>\n",
              "      <td>60 months</td>\n",
              "      <td>24.74</td>\n",
              "      <td>1006.47</td>\n",
              "      <td>F</td>\n",
              "      <td>10+ years</td>\n",
              "      <td>MORTGAGE</td>\n",
              "      <td>147500.0</td>\n",
              "      <td>debt_consolidation</td>\n",
              "      <td>good</td>\n",
              "    </tr>\n",
              "    <tr>\n",
              "      <th>...</th>\n",
              "      <td>...</td>\n",
              "      <td>...</td>\n",
              "      <td>...</td>\n",
              "      <td>...</td>\n",
              "      <td>...</td>\n",
              "      <td>...</td>\n",
              "      <td>...</td>\n",
              "      <td>...</td>\n",
              "      <td>...</td>\n",
              "      <td>...</td>\n",
              "      <td>...</td>\n",
              "    </tr>\n",
              "    <tr>\n",
              "      <th>242054</th>\n",
              "      <td>242054</td>\n",
              "      <td>6000.0</td>\n",
              "      <td>60 months</td>\n",
              "      <td>23.40</td>\n",
              "      <td>170.53</td>\n",
              "      <td>E</td>\n",
              "      <td>10+ years</td>\n",
              "      <td>MORTGAGE</td>\n",
              "      <td>45600.0</td>\n",
              "      <td>medical</td>\n",
              "      <td>bad</td>\n",
              "    </tr>\n",
              "    <tr>\n",
              "      <th>242055</th>\n",
              "      <td>242055</td>\n",
              "      <td>15000.0</td>\n",
              "      <td>36 months</td>\n",
              "      <td>16.99</td>\n",
              "      <td>534.72</td>\n",
              "      <td>D</td>\n",
              "      <td>10+ years</td>\n",
              "      <td>RENT</td>\n",
              "      <td>50000.0</td>\n",
              "      <td>debt_consolidation</td>\n",
              "      <td>bad</td>\n",
              "    </tr>\n",
              "    <tr>\n",
              "      <th>242056</th>\n",
              "      <td>242056</td>\n",
              "      <td>8525.0</td>\n",
              "      <td>60 months</td>\n",
              "      <td>18.25</td>\n",
              "      <td>217.65</td>\n",
              "      <td>D</td>\n",
              "      <td>5 years</td>\n",
              "      <td>MORTGAGE</td>\n",
              "      <td>37536.0</td>\n",
              "      <td>medical</td>\n",
              "      <td>bad</td>\n",
              "    </tr>\n",
              "    <tr>\n",
              "      <th>242057</th>\n",
              "      <td>242057</td>\n",
              "      <td>18000.0</td>\n",
              "      <td>36 months</td>\n",
              "      <td>7.90</td>\n",
              "      <td>563.23</td>\n",
              "      <td>A</td>\n",
              "      <td>3 years</td>\n",
              "      <td>RENT</td>\n",
              "      <td>90000.0</td>\n",
              "      <td>debt_consolidation</td>\n",
              "      <td>bad</td>\n",
              "    </tr>\n",
              "    <tr>\n",
              "      <th>242058</th>\n",
              "      <td>242058</td>\n",
              "      <td>22000.0</td>\n",
              "      <td>60 months</td>\n",
              "      <td>19.97</td>\n",
              "      <td>582.50</td>\n",
              "      <td>D</td>\n",
              "      <td>10+ years</td>\n",
              "      <td>MORTGAGE</td>\n",
              "      <td>78000.0</td>\n",
              "      <td>debt_consolidation</td>\n",
              "      <td>bad</td>\n",
              "    </tr>\n",
              "  </tbody>\n",
              "</table>\n",
              "<p>242059 rows × 11 columns</p>\n",
              "</div>\n",
              "      <button class=\"colab-df-convert\" onclick=\"convertToInteractive('df-c1c0bb99-faf0-415d-a9b2-8cfd0c1dd732')\"\n",
              "              title=\"Convert this dataframe to an interactive table.\"\n",
              "              style=\"display:none;\">\n",
              "        \n",
              "  <svg xmlns=\"http://www.w3.org/2000/svg\" height=\"24px\"viewBox=\"0 0 24 24\"\n",
              "       width=\"24px\">\n",
              "    <path d=\"M0 0h24v24H0V0z\" fill=\"none\"/>\n",
              "    <path d=\"M18.56 5.44l.94 2.06.94-2.06 2.06-.94-2.06-.94-.94-2.06-.94 2.06-2.06.94zm-11 1L8.5 8.5l.94-2.06 2.06-.94-2.06-.94L8.5 2.5l-.94 2.06-2.06.94zm10 10l.94 2.06.94-2.06 2.06-.94-2.06-.94-.94-2.06-.94 2.06-2.06.94z\"/><path d=\"M17.41 7.96l-1.37-1.37c-.4-.4-.92-.59-1.43-.59-.52 0-1.04.2-1.43.59L10.3 9.45l-7.72 7.72c-.78.78-.78 2.05 0 2.83L4 21.41c.39.39.9.59 1.41.59.51 0 1.02-.2 1.41-.59l7.78-7.78 2.81-2.81c.8-.78.8-2.07 0-2.86zM5.41 20L4 18.59l7.72-7.72 1.47 1.35L5.41 20z\"/>\n",
              "  </svg>\n",
              "      </button>\n",
              "      \n",
              "  <style>\n",
              "    .colab-df-container {\n",
              "      display:flex;\n",
              "      flex-wrap:wrap;\n",
              "      gap: 12px;\n",
              "    }\n",
              "\n",
              "    .colab-df-convert {\n",
              "      background-color: #E8F0FE;\n",
              "      border: none;\n",
              "      border-radius: 50%;\n",
              "      cursor: pointer;\n",
              "      display: none;\n",
              "      fill: #1967D2;\n",
              "      height: 32px;\n",
              "      padding: 0 0 0 0;\n",
              "      width: 32px;\n",
              "    }\n",
              "\n",
              "    .colab-df-convert:hover {\n",
              "      background-color: #E2EBFA;\n",
              "      box-shadow: 0px 1px 2px rgba(60, 64, 67, 0.3), 0px 1px 3px 1px rgba(60, 64, 67, 0.15);\n",
              "      fill: #174EA6;\n",
              "    }\n",
              "\n",
              "    [theme=dark] .colab-df-convert {\n",
              "      background-color: #3B4455;\n",
              "      fill: #D2E3FC;\n",
              "    }\n",
              "\n",
              "    [theme=dark] .colab-df-convert:hover {\n",
              "      background-color: #434B5C;\n",
              "      box-shadow: 0px 1px 3px 1px rgba(0, 0, 0, 0.15);\n",
              "      filter: drop-shadow(0px 1px 2px rgba(0, 0, 0, 0.3));\n",
              "      fill: #FFFFFF;\n",
              "    }\n",
              "  </style>\n",
              "\n",
              "      <script>\n",
              "        const buttonEl =\n",
              "          document.querySelector('#df-c1c0bb99-faf0-415d-a9b2-8cfd0c1dd732 button.colab-df-convert');\n",
              "        buttonEl.style.display =\n",
              "          google.colab.kernel.accessAllowed ? 'block' : 'none';\n",
              "\n",
              "        async function convertToInteractive(key) {\n",
              "          const element = document.querySelector('#df-c1c0bb99-faf0-415d-a9b2-8cfd0c1dd732');\n",
              "          const dataTable =\n",
              "            await google.colab.kernel.invokeFunction('convertToInteractive',\n",
              "                                                     [key], {});\n",
              "          if (!dataTable) return;\n",
              "\n",
              "          const docLinkHtml = 'Like what you see? Visit the ' +\n",
              "            '<a target=\"_blank\" href=https://colab.research.google.com/notebooks/data_table.ipynb>data table notebook</a>'\n",
              "            + ' to learn more about interactive tables.';\n",
              "          element.innerHTML = '';\n",
              "          dataTable['output_type'] = 'display_data';\n",
              "          await google.colab.output.renderOutput(dataTable, element);\n",
              "          const docLink = document.createElement('div');\n",
              "          docLink.innerHTML = docLinkHtml;\n",
              "          element.appendChild(docLink);\n",
              "        }\n",
              "      </script>\n",
              "    </div>\n",
              "  </div>\n",
              "  "
            ]
          },
          "metadata": {},
          "execution_count": 2
        }
      ]
    },
    {
      "cell_type": "markdown",
      "source": [
        "# Preprocessing"
      ],
      "metadata": {
        "id": "OcA55jBipaKO"
      }
    },
    {
      "cell_type": "code",
      "source": [
        "df.drop(\"Unnamed: 0\",axis=1,inplace=True)"
      ],
      "metadata": {
        "id": "XSG_DlAAo9TX"
      },
      "execution_count": 4,
      "outputs": []
    },
    {
      "cell_type": "code",
      "source": [
        "df.info()"
      ],
      "metadata": {
        "colab": {
          "base_uri": "https://localhost:8080/"
        },
        "id": "3wdKpxk6pK97",
        "outputId": "55756744-330b-498e-f39f-591546da819a"
      },
      "execution_count": 6,
      "outputs": [
        {
          "output_type": "stream",
          "name": "stdout",
          "text": [
            "<class 'pandas.core.frame.DataFrame'>\n",
            "RangeIndex: 242059 entries, 0 to 242058\n",
            "Data columns (total 10 columns):\n",
            " #   Column          Non-Null Count   Dtype  \n",
            "---  ------          --------------   -----  \n",
            " 0   loan_amnt       242059 non-null  float64\n",
            " 1   term            242059 non-null  object \n",
            " 2   int_rate        242059 non-null  float64\n",
            " 3   installment     242059 non-null  float64\n",
            " 4   grade           242059 non-null  object \n",
            " 5   emp_length      242059 non-null  object \n",
            " 6   home_ownership  242059 non-null  object \n",
            " 7   annual_inc      242059 non-null  float64\n",
            " 8   purpose         242059 non-null  object \n",
            " 9   status          242059 non-null  object \n",
            "dtypes: float64(4), object(6)\n",
            "memory usage: 18.5+ MB\n"
          ]
        }
      ]
    },
    {
      "cell_type": "markdown",
      "source": [
        "## Mengubah kolom term menjadi tipe data float"
      ],
      "metadata": {
        "id": "nDONn7BKpwIc"
      }
    },
    {
      "cell_type": "code",
      "source": [
        "'''pada kolom term, terdapat campuran antara data numerik dan data nominal dimana \n",
        "data tersebut terlihat akan mempengaruhi proses modeling. Maka dari itu kita ambil\n",
        "data numeriknya saja dari kolom term dan menghapus data nominalnya\n",
        "'''\n",
        "\n",
        "df['term'] = df['term'].astype(str)\n",
        "new_term = [item.replace(\" months\", \"\") for item in df['term']] # membuat kolom baru dari kolom term tanpa kata ' months'\n",
        "df['new_term'] = new_term # memasukkan kolom baru ke dataframe\n",
        "df['new_term'] = df['new_term'].astype(float) #mengubah data baru ke dalam bentuk integer"
      ],
      "metadata": {
        "id": "gzRgzrC1p4Jj"
      },
      "execution_count": 7,
      "outputs": []
    },
    {
      "cell_type": "code",
      "source": [
        "df.drop('term',axis=1,inplace=True) # menghapus kolom term yang sudah diperbarui"
      ],
      "metadata": {
        "id": "X-EblIBgqEv6"
      },
      "execution_count": 8,
      "outputs": []
    },
    {
      "cell_type": "code",
      "source": [
        "data =  df[['loan_amnt','new_term','int_rate','installment',\n",
        "            'grade','emp_length','home_ownership','annual_inc','purpose','status']]"
      ],
      "metadata": {
        "id": "FfsI5AOlqHSw"
      },
      "execution_count": 11,
      "outputs": []
    },
    {
      "cell_type": "code",
      "source": [
        "# Lalu mengganti nama with_annual_inc dengan annual_inc kembali\n",
        "data.rename(columns={'new_term': 'term'}, inplace=True)\n",
        "data"
      ],
      "metadata": {
        "colab": {
          "base_uri": "https://localhost:8080/",
          "height": 424
        },
        "id": "l6OQaSicqpc1",
        "outputId": "825c8a4b-ba55-40ce-f6fa-43453b6619ac"
      },
      "execution_count": 12,
      "outputs": [
        {
          "output_type": "execute_result",
          "data": {
            "text/plain": [
              "        loan_amnt  term  int_rate  installment grade emp_length  \\\n",
              "0         34362.5  36.0     24.74      1006.47     G   < 1 year   \n",
              "1         34362.5  60.0     24.74      1006.47     G    3 years   \n",
              "2         34362.5  60.0     24.74      1006.47     G  10+ years   \n",
              "3         34362.5  36.0     24.74      1006.47     F  10+ years   \n",
              "4         34362.5  60.0     24.74      1006.47     F  10+ years   \n",
              "...           ...   ...       ...          ...   ...        ...   \n",
              "242054     6000.0  60.0     23.40       170.53     E  10+ years   \n",
              "242055    15000.0  36.0     16.99       534.72     D  10+ years   \n",
              "242056     8525.0  60.0     18.25       217.65     D    5 years   \n",
              "242057    18000.0  36.0      7.90       563.23     A    3 years   \n",
              "242058    22000.0  60.0     19.97       582.50     D  10+ years   \n",
              "\n",
              "       home_ownership  annual_inc             purpose status  \n",
              "0                RENT    147500.0      small_business   good  \n",
              "1            MORTGAGE    147500.0      small_business   good  \n",
              "2            MORTGAGE    147500.0  debt_consolidation   good  \n",
              "3                RENT    147500.0      small_business   good  \n",
              "4            MORTGAGE    147500.0  debt_consolidation   good  \n",
              "...               ...         ...                 ...    ...  \n",
              "242054       MORTGAGE     45600.0             medical    bad  \n",
              "242055           RENT     50000.0  debt_consolidation    bad  \n",
              "242056       MORTGAGE     37536.0             medical    bad  \n",
              "242057           RENT     90000.0  debt_consolidation    bad  \n",
              "242058       MORTGAGE     78000.0  debt_consolidation    bad  \n",
              "\n",
              "[242059 rows x 10 columns]"
            ],
            "text/html": [
              "\n",
              "  <div id=\"df-7a501ca8-322f-4353-a8a7-2c46442204a9\">\n",
              "    <div class=\"colab-df-container\">\n",
              "      <div>\n",
              "<style scoped>\n",
              "    .dataframe tbody tr th:only-of-type {\n",
              "        vertical-align: middle;\n",
              "    }\n",
              "\n",
              "    .dataframe tbody tr th {\n",
              "        vertical-align: top;\n",
              "    }\n",
              "\n",
              "    .dataframe thead th {\n",
              "        text-align: right;\n",
              "    }\n",
              "</style>\n",
              "<table border=\"1\" class=\"dataframe\">\n",
              "  <thead>\n",
              "    <tr style=\"text-align: right;\">\n",
              "      <th></th>\n",
              "      <th>loan_amnt</th>\n",
              "      <th>term</th>\n",
              "      <th>int_rate</th>\n",
              "      <th>installment</th>\n",
              "      <th>grade</th>\n",
              "      <th>emp_length</th>\n",
              "      <th>home_ownership</th>\n",
              "      <th>annual_inc</th>\n",
              "      <th>purpose</th>\n",
              "      <th>status</th>\n",
              "    </tr>\n",
              "  </thead>\n",
              "  <tbody>\n",
              "    <tr>\n",
              "      <th>0</th>\n",
              "      <td>34362.5</td>\n",
              "      <td>36.0</td>\n",
              "      <td>24.74</td>\n",
              "      <td>1006.47</td>\n",
              "      <td>G</td>\n",
              "      <td>&lt; 1 year</td>\n",
              "      <td>RENT</td>\n",
              "      <td>147500.0</td>\n",
              "      <td>small_business</td>\n",
              "      <td>good</td>\n",
              "    </tr>\n",
              "    <tr>\n",
              "      <th>1</th>\n",
              "      <td>34362.5</td>\n",
              "      <td>60.0</td>\n",
              "      <td>24.74</td>\n",
              "      <td>1006.47</td>\n",
              "      <td>G</td>\n",
              "      <td>3 years</td>\n",
              "      <td>MORTGAGE</td>\n",
              "      <td>147500.0</td>\n",
              "      <td>small_business</td>\n",
              "      <td>good</td>\n",
              "    </tr>\n",
              "    <tr>\n",
              "      <th>2</th>\n",
              "      <td>34362.5</td>\n",
              "      <td>60.0</td>\n",
              "      <td>24.74</td>\n",
              "      <td>1006.47</td>\n",
              "      <td>G</td>\n",
              "      <td>10+ years</td>\n",
              "      <td>MORTGAGE</td>\n",
              "      <td>147500.0</td>\n",
              "      <td>debt_consolidation</td>\n",
              "      <td>good</td>\n",
              "    </tr>\n",
              "    <tr>\n",
              "      <th>3</th>\n",
              "      <td>34362.5</td>\n",
              "      <td>36.0</td>\n",
              "      <td>24.74</td>\n",
              "      <td>1006.47</td>\n",
              "      <td>F</td>\n",
              "      <td>10+ years</td>\n",
              "      <td>RENT</td>\n",
              "      <td>147500.0</td>\n",
              "      <td>small_business</td>\n",
              "      <td>good</td>\n",
              "    </tr>\n",
              "    <tr>\n",
              "      <th>4</th>\n",
              "      <td>34362.5</td>\n",
              "      <td>60.0</td>\n",
              "      <td>24.74</td>\n",
              "      <td>1006.47</td>\n",
              "      <td>F</td>\n",
              "      <td>10+ years</td>\n",
              "      <td>MORTGAGE</td>\n",
              "      <td>147500.0</td>\n",
              "      <td>debt_consolidation</td>\n",
              "      <td>good</td>\n",
              "    </tr>\n",
              "    <tr>\n",
              "      <th>...</th>\n",
              "      <td>...</td>\n",
              "      <td>...</td>\n",
              "      <td>...</td>\n",
              "      <td>...</td>\n",
              "      <td>...</td>\n",
              "      <td>...</td>\n",
              "      <td>...</td>\n",
              "      <td>...</td>\n",
              "      <td>...</td>\n",
              "      <td>...</td>\n",
              "    </tr>\n",
              "    <tr>\n",
              "      <th>242054</th>\n",
              "      <td>6000.0</td>\n",
              "      <td>60.0</td>\n",
              "      <td>23.40</td>\n",
              "      <td>170.53</td>\n",
              "      <td>E</td>\n",
              "      <td>10+ years</td>\n",
              "      <td>MORTGAGE</td>\n",
              "      <td>45600.0</td>\n",
              "      <td>medical</td>\n",
              "      <td>bad</td>\n",
              "    </tr>\n",
              "    <tr>\n",
              "      <th>242055</th>\n",
              "      <td>15000.0</td>\n",
              "      <td>36.0</td>\n",
              "      <td>16.99</td>\n",
              "      <td>534.72</td>\n",
              "      <td>D</td>\n",
              "      <td>10+ years</td>\n",
              "      <td>RENT</td>\n",
              "      <td>50000.0</td>\n",
              "      <td>debt_consolidation</td>\n",
              "      <td>bad</td>\n",
              "    </tr>\n",
              "    <tr>\n",
              "      <th>242056</th>\n",
              "      <td>8525.0</td>\n",
              "      <td>60.0</td>\n",
              "      <td>18.25</td>\n",
              "      <td>217.65</td>\n",
              "      <td>D</td>\n",
              "      <td>5 years</td>\n",
              "      <td>MORTGAGE</td>\n",
              "      <td>37536.0</td>\n",
              "      <td>medical</td>\n",
              "      <td>bad</td>\n",
              "    </tr>\n",
              "    <tr>\n",
              "      <th>242057</th>\n",
              "      <td>18000.0</td>\n",
              "      <td>36.0</td>\n",
              "      <td>7.90</td>\n",
              "      <td>563.23</td>\n",
              "      <td>A</td>\n",
              "      <td>3 years</td>\n",
              "      <td>RENT</td>\n",
              "      <td>90000.0</td>\n",
              "      <td>debt_consolidation</td>\n",
              "      <td>bad</td>\n",
              "    </tr>\n",
              "    <tr>\n",
              "      <th>242058</th>\n",
              "      <td>22000.0</td>\n",
              "      <td>60.0</td>\n",
              "      <td>19.97</td>\n",
              "      <td>582.50</td>\n",
              "      <td>D</td>\n",
              "      <td>10+ years</td>\n",
              "      <td>MORTGAGE</td>\n",
              "      <td>78000.0</td>\n",
              "      <td>debt_consolidation</td>\n",
              "      <td>bad</td>\n",
              "    </tr>\n",
              "  </tbody>\n",
              "</table>\n",
              "<p>242059 rows × 10 columns</p>\n",
              "</div>\n",
              "      <button class=\"colab-df-convert\" onclick=\"convertToInteractive('df-7a501ca8-322f-4353-a8a7-2c46442204a9')\"\n",
              "              title=\"Convert this dataframe to an interactive table.\"\n",
              "              style=\"display:none;\">\n",
              "        \n",
              "  <svg xmlns=\"http://www.w3.org/2000/svg\" height=\"24px\"viewBox=\"0 0 24 24\"\n",
              "       width=\"24px\">\n",
              "    <path d=\"M0 0h24v24H0V0z\" fill=\"none\"/>\n",
              "    <path d=\"M18.56 5.44l.94 2.06.94-2.06 2.06-.94-2.06-.94-.94-2.06-.94 2.06-2.06.94zm-11 1L8.5 8.5l.94-2.06 2.06-.94-2.06-.94L8.5 2.5l-.94 2.06-2.06.94zm10 10l.94 2.06.94-2.06 2.06-.94-2.06-.94-.94-2.06-.94 2.06-2.06.94z\"/><path d=\"M17.41 7.96l-1.37-1.37c-.4-.4-.92-.59-1.43-.59-.52 0-1.04.2-1.43.59L10.3 9.45l-7.72 7.72c-.78.78-.78 2.05 0 2.83L4 21.41c.39.39.9.59 1.41.59.51 0 1.02-.2 1.41-.59l7.78-7.78 2.81-2.81c.8-.78.8-2.07 0-2.86zM5.41 20L4 18.59l7.72-7.72 1.47 1.35L5.41 20z\"/>\n",
              "  </svg>\n",
              "      </button>\n",
              "      \n",
              "  <style>\n",
              "    .colab-df-container {\n",
              "      display:flex;\n",
              "      flex-wrap:wrap;\n",
              "      gap: 12px;\n",
              "    }\n",
              "\n",
              "    .colab-df-convert {\n",
              "      background-color: #E8F0FE;\n",
              "      border: none;\n",
              "      border-radius: 50%;\n",
              "      cursor: pointer;\n",
              "      display: none;\n",
              "      fill: #1967D2;\n",
              "      height: 32px;\n",
              "      padding: 0 0 0 0;\n",
              "      width: 32px;\n",
              "    }\n",
              "\n",
              "    .colab-df-convert:hover {\n",
              "      background-color: #E2EBFA;\n",
              "      box-shadow: 0px 1px 2px rgba(60, 64, 67, 0.3), 0px 1px 3px 1px rgba(60, 64, 67, 0.15);\n",
              "      fill: #174EA6;\n",
              "    }\n",
              "\n",
              "    [theme=dark] .colab-df-convert {\n",
              "      background-color: #3B4455;\n",
              "      fill: #D2E3FC;\n",
              "    }\n",
              "\n",
              "    [theme=dark] .colab-df-convert:hover {\n",
              "      background-color: #434B5C;\n",
              "      box-shadow: 0px 1px 3px 1px rgba(0, 0, 0, 0.15);\n",
              "      filter: drop-shadow(0px 1px 2px rgba(0, 0, 0, 0.3));\n",
              "      fill: #FFFFFF;\n",
              "    }\n",
              "  </style>\n",
              "\n",
              "      <script>\n",
              "        const buttonEl =\n",
              "          document.querySelector('#df-7a501ca8-322f-4353-a8a7-2c46442204a9 button.colab-df-convert');\n",
              "        buttonEl.style.display =\n",
              "          google.colab.kernel.accessAllowed ? 'block' : 'none';\n",
              "\n",
              "        async function convertToInteractive(key) {\n",
              "          const element = document.querySelector('#df-7a501ca8-322f-4353-a8a7-2c46442204a9');\n",
              "          const dataTable =\n",
              "            await google.colab.kernel.invokeFunction('convertToInteractive',\n",
              "                                                     [key], {});\n",
              "          if (!dataTable) return;\n",
              "\n",
              "          const docLinkHtml = 'Like what you see? Visit the ' +\n",
              "            '<a target=\"_blank\" href=https://colab.research.google.com/notebooks/data_table.ipynb>data table notebook</a>'\n",
              "            + ' to learn more about interactive tables.';\n",
              "          element.innerHTML = '';\n",
              "          dataTable['output_type'] = 'display_data';\n",
              "          await google.colab.output.renderOutput(dataTable, element);\n",
              "          const docLink = document.createElement('div');\n",
              "          docLink.innerHTML = docLinkHtml;\n",
              "          element.appendChild(docLink);\n",
              "        }\n",
              "      </script>\n",
              "    </div>\n",
              "  </div>\n",
              "  "
            ]
          },
          "metadata": {},
          "execution_count": 12
        }
      ]
    },
    {
      "cell_type": "markdown",
      "source": [
        "## Encoding data kategorik"
      ],
      "metadata": {
        "id": "vmEuloVsqy-D"
      }
    },
    {
      "cell_type": "code",
      "source": [
        "before_grade = data['grade'].value_counts()\n",
        "before_emp_length = data['emp_length'].value_counts()\n",
        "before_home_ownership = data['home_ownership'].value_counts()\n",
        "before_purpose = data['purpose'].value_counts()\n",
        "before_status = data['status'].value_counts()\n",
        "print('Jumlah grade sebelum encoding: ', before_grade)\n",
        "print('Jumlah emp_length sebelum encoding: ', before_emp_length)\n",
        "print('Jumlah home_ownership sebelum encoding: ', before_home_ownership)\n",
        "print('Jumlah purpose sebelum encoding: ', before_purpose)\n",
        "print('Jumlah status sebelum encoding: ', before_status)"
      ],
      "metadata": {
        "colab": {
          "base_uri": "https://localhost:8080/"
        },
        "id": "HyPxhYbTyfZR",
        "outputId": "b349d7d3-6a0c-4f71-d504-01e76e18eaa6"
      },
      "execution_count": 13,
      "outputs": [
        {
          "output_type": "stream",
          "name": "stdout",
          "text": [
            "Jumlah grade sebelum encoding:  B    72920\n",
            "C    61942\n",
            "A    39676\n",
            "D    39428\n",
            "E    18528\n",
            "F     7532\n",
            "G     2033\n",
            "Name: grade, dtype: int64\n",
            "Jumlah emp_length sebelum encoding:  10+ years    81622\n",
            "2 years      22642\n",
            "< 1 year     20234\n",
            "3 years      19680\n",
            "5 years      17497\n",
            "1 year       16280\n",
            "4 years      15563\n",
            "6 years      14496\n",
            "7 years      13652\n",
            "8 years      11257\n",
            "9 years       9136\n",
            "Name: emp_length, dtype: int64\n",
            "Jumlah home_ownership sebelum encoding:  MORTGAGE    118837\n",
            "RENT        102562\n",
            "OWN          20432\n",
            "OTHER          179\n",
            "NONE            48\n",
            "ANY              1\n",
            "Name: home_ownership, dtype: int64\n",
            "Jumlah purpose sebelum encoding:  debt_consolidation    141061\n",
            "credit_card            48265\n",
            "home_improvement       14084\n",
            "other                  13847\n",
            "major_purchase          6038\n",
            "small_business          4843\n",
            "car                     3521\n",
            "medical                 2746\n",
            "wedding                 2020\n",
            "moving                  1915\n",
            "house                   1555\n",
            "vacation                1483\n",
            "educational              422\n",
            "renewable_energy         259\n",
            "Name: purpose, dtype: int64\n",
            "Jumlah status sebelum encoding:  good    186727\n",
            "bad      55332\n",
            "Name: status, dtype: int64\n"
          ]
        }
      ]
    },
    {
      "cell_type": "code",
      "execution_count": 14,
      "metadata": {
        "id": "LXy8I5hS2_K1"
      },
      "outputs": [],
      "source": [
        "from sklearn.preprocessing import LabelEncoder\n",
        "encoder = LabelEncoder()\n",
        "\n",
        "data['grade'] = encoder.fit_transform(data['grade'])\n",
        "data['emp_length'] = encoder.fit_transform(data['emp_length'])\n",
        "data['home_ownership'] = encoder.fit_transform(data['home_ownership'])\n",
        "data['purpose'] = encoder.fit_transform(data['purpose'])\n",
        "data['status'] = encoder.fit_transform(data['status'])"
      ]
    },
    {
      "cell_type": "code",
      "source": [
        "setelah_grade = data['grade'].value_counts()\n",
        "setelah_emp_length = data['emp_length'].value_counts()\n",
        "setelah_home_ownership = data['home_ownership'].value_counts()\n",
        "setelah_purpose = data['purpose'].value_counts()\n",
        "setelah_status = data['status'].value_counts()\n",
        "print('Jumlah grade setelah encoding: ', setelah_grade)\n",
        "print('Jumlah emp_length setelah encoding: ', setelah_emp_length)\n",
        "print('Jumlah home_ownership setelah encoding: ', setelah_home_ownership)\n",
        "print('Jumlah purpose setelah encoding: ', setelah_purpose)\n",
        "print('Jumlah status setelah encoding: ', setelah_status)"
      ],
      "metadata": {
        "colab": {
          "base_uri": "https://localhost:8080/"
        },
        "id": "eC1Xo61vzTuu",
        "outputId": "b6cfa0d6-a938-4746-fec4-5ee5b11ad614"
      },
      "execution_count": 15,
      "outputs": [
        {
          "output_type": "stream",
          "name": "stdout",
          "text": [
            "Jumlah grade setelah encoding:  1    72920\n",
            "2    61942\n",
            "0    39676\n",
            "3    39428\n",
            "4    18528\n",
            "5     7532\n",
            "6     2033\n",
            "Name: grade, dtype: int64\n",
            "Jumlah emp_length setelah encoding:  1     81622\n",
            "2     22642\n",
            "10    20234\n",
            "3     19680\n",
            "5     17497\n",
            "0     16280\n",
            "4     15563\n",
            "6     14496\n",
            "7     13652\n",
            "8     11257\n",
            "9      9136\n",
            "Name: emp_length, dtype: int64\n",
            "Jumlah home_ownership setelah encoding:  1    118837\n",
            "5    102562\n",
            "4     20432\n",
            "3       179\n",
            "2        48\n",
            "0         1\n",
            "Name: home_ownership, dtype: int64\n",
            "Jumlah purpose setelah encoding:  2     141061\n",
            "1      48265\n",
            "4      14084\n",
            "9      13847\n",
            "6       6038\n",
            "11      4843\n",
            "0       3521\n",
            "7       2746\n",
            "13      2020\n",
            "8       1915\n",
            "5       1555\n",
            "12      1483\n",
            "3        422\n",
            "10       259\n",
            "Name: purpose, dtype: int64\n",
            "Jumlah status setelah encoding:  1    186727\n",
            "0     55332\n",
            "Name: status, dtype: int64\n"
          ]
        }
      ]
    },
    {
      "cell_type": "markdown",
      "source": [
        "![angst.png](data:image/png;base64,iVBORw0KGgoAAAANSUhEUgAAAloAAAHGCAIAAAAjdbIYAAAAAXNSR0IArs4c6QAAAARnQU1BAACxjwv8YQUAAAAJcEhZcwAADsMAAA7DAcdvqGQAAFQfSURBVHhe7Z3dmeQ6jkTXlzFmbLlezOu1ZAwZO9aW3agMdgyKSlFIiWJKVJyH/CAK/AEBAsrqLtX//J8xxhjzeFwOjTHGGJdDY4wxxuXQGGOMAS6HxhhjjMuhGcv/GNObElvGHMORZIbi5GX6cseIehVxM46y71uk9aagGGO+h71g+nLHiPIpGEl+t9N69/efQ/AK2AumL3eMKJ+CkeR3O613f/85BK+AvWD6cseI8ikYSX6303r3959D8ArYC6Yvd4won4KR5Hc7rXd//zkEr4C9YPpyx4jyKRhJfrfTevf3n0PwCjzBC//+979hpvjPf/5TbpgTwA4X6T7ccc1j+Mc//oHjUy46kd/ttN5X/ffPf/7z77//Lhd7cQhegSd4AecZp1oyTP7f//1fXpru3DGiGmuuch0iZ1j8YCLx119/ldaxvC2HeKDEknY/VqJvkbZI6+2KuV6PyS6H0/AEL8RyCHTC4xFAPCOqITDf8aSwhWr4JC/1H2KjshW7E+URzMgWDjg3MLNI96Gx5q+UQ84S50UIfSV43pbDg+QjJK33eczhxEZHcscpf0oVIvvYPbvpyBO8sKMcxtSDS0AZ7bzFWqjukHkicLc6GmhRsVzenQ/t1Y1orLlyGcNDWRR3cUnUCJmPUwAKaNHzEBWAFICiSCBgFDOE80Iz3sLCFNhaGBqhoIXFYqZlcFUgKkOTUU24Kh6W0vRn/ZoLMvpCQSMvbVkCtSJtkdb7MOZoJw1Yglu0mZsb7VcXNcJ+oBCBwHawNv5boF8k8z2e4AUeV8oMV8oQdHrRjqiGEI86iWo8RxBeSem/CUvdX4ej5BpQjRZXMivcn3vRWDO8qVwHokOjr6u4kpchA8YPlBkzMRsroiLojlApF39AI2aJIYQBIXMctXMl7I5PDa7ZKdOoqAyW86JlOUK1CZBpYNyEBhkdktZLj0hgBtZdLhZgNG0xDJOmetF+2swt5m7G7YasQTJ8aoI5gyd4gVEqSuvLdoY0QDzHUOdRJ1GNdyHgaPAIkBj8TBC8pH7kozNyR2Bjke5DY830ZgXcSs/is+iFOJEA0F1xgiBhjCF4ABsBQgK3ysWLOILQUJoXHdHCvgpIfHIWQmWgXkDhWimjMS4MxLVp/XE0rYq8XXkFdIq0RVrvw5h77f9/Hw3QnbAFwlsb1nZNW7BjL4RmN1/kCV5QGFegUeGqCK8SB4hRDYE7Fg8UqA4IwCUUlqNNzx0jqrHmKsXJoRRK6wtVDrQrYGJ3xSECAzoRdhTLFqDxMSYETIFx8MnAUzBXoYih0M7VRriSZdyiHXfVqEkBBPbiaPiEDM24P1pGA/Qt0hZpvQ9jDhtXmY1FaxAI0YboLe0aGnkXaAsgFL0/bO6FgHKRzPd4ghd0jCsQvYxqHm8ekHjUCS7VXV14fBTtkJU1CNSoqS4PAVtRpPvQWDPcF9O9wkNCufEahPEgAcTuikPFxhrLmInTYUAOy5Bju0KUdykDLma5WlIpC4zGZUNQYGv9cbRoIOB05WIF6BRpi7TehzEHS6rtwKI1SLQBtmlnZX+1a9qCai8+4lMTzBk8wQsK4wqeagIdRng86gSXCPKX1q8fdfJMEchsLNe/NSGX1u/9j/lhwMYi3YfGmqsUF8MDtxgzADryOBTa5ZC5N8ZYBRUUVACXihyuASNrGT/V9c9dTKdVAS2GamwUlbJAI5eNBWsZWn+1CZLjJjSAfpG2SOt9HnNx3YA7ThmC/Bc3CEL0H3WgAJmbhQ3SIJ+yu6PpiL2wiSLfZLhjRDXWrMJAYiUASI+4BLEM4FIBE7urnFBmR6IBBScScQ0A42goJuS3CRzEW+jyGuwHlsaoHGdUI7pslkMugCwNWQK1Im2R1tsVc3HdAJdshxwPvHYNW1ZtOhuB+lZjsjHDR8rmJOyFTbBFLod57hhRPgW7ifU+SX6303r3959D8ArYC5tgi1wO89wxonwKduNy2AeH4BWwF0xf7hhRPgW7cTnsg0PwCsALxvSlxNZ9uOOa70t+t9N6LoemB/bC3Iz37x0jCms2Iyn7vkVabwqKMeZ72AtzM96/d4yo6U/BpQzMLyatN9a8M6abPgRvgb0wN+P9e8eImv4UXMrA/GLSemPNO2O66UPwFtgLczPev3eMqOlPwaUMzC8mrTfWvDOmmz4Eb4G9MDfj/XvHiJr+FFzKwPxi0npjzTtjuulD8BbYC3Mz3r93jKjpT8GlDMwvJq031rwzpps+BG9B2wv/eb2cj+i9TeZGwHFFegc9Czo6F6MV6T7ccc0fcSkD84tJ640174zppg/BW9DwAl+rqBey/P2CsrkLDf/+I/xxuygf5I7nurFmPCjg7jLysV1v2xvw4bJcjKU9Lxc27Hk3vwlpva0R6a1eL5dqT4e75KMNhX6RzPdoeAG39PbeSHz7MN/Yy1f6st1fIi8FPFKk31Spmb4rF8foNc5IGmtGPINKgQGP9o+eIa5ZDmkg6jo+S9PJ5Dchrbc1IhTgqo+81aAx3e5nzPymmPNY8wKP7vL99GjXsYGvKSs7sN1chzX/ov7p7fxgzd07WJvxyjTWzFKBvYqPhmj5ya0v2BKfEfWVEXfZF43/+te/eJdQoVz8AS10BIFMNQxSml5w/KgZ1/YW6BRpBYw5bTnE7sA27ldpOsbaONUUjIlysUWvtZkjJD37FribKZXlsEsyNX1Zc6J8Rzp6cDNsLkhjzSyHVbWAPg6IyiHzHnePO4kWyLhLzZ8+izOFAdmd7egI5BTMSFl3IasLLjUyZSqsEed9S2XgqWwuRqT1miPShRCwoXTMQdamqw5V9Nwm+U0x57HmheroRnjICb2fOZDmK8AvRfrNkZPbZm3GK9NYs3IpdFh+sHWsHDgILE7SIWqXQKozFZOzBhdSjp5S0aqqV7WAJQ0DSTXgqWwuRqT11keMuamXkWvTVYfqo7SY3xRzHg0v4JaOq0BEyePy/kd+NyNZ82+VmquDfIRGRF2WxppVaVTbsFE8F2qBTjwpyrpSINWeQ4d32a6MDVlUd9WlUgNc5BpQKNIKWvMANhcj0nrrI0bDuJX45OVu1qarTlH03Cb5TTHn0Q6k6E34Gi0xuiC4HF6chn9xC96kDD9KPkhjxsvSWDOCnDvD5IZTIOVXsSvlMO6e2iUQjlAuXr1wSVhN4+BSpkCUbOMxzIC+RVrh0wGPsLkYkdZbHxFb9rNzgeiSfWCQIv2mcnBVHdusjWlG0vYCzyfRaVGAIa7obpfDywK/FGkBvUaOpwiB0Yp0HxprjqWOka/Ln1r32jceE8Y/dxWJMSqQ6phEmcT8iY5QgIDp4iAkzpKBQzWYsxyyPsVdhp356ddojIBbMVwkb3J8VeY49sLcjPfvHSOqseZYDmPZA69iVwoV0yxRlYoKBKNBgTUvPmsC9qICQEd8vjr9+oajosVUL9qlEQpFWqAZicY/D8xSpC3SeisjLh3A5whsfbneRcMAjk+qqdtAv0jme9gLczPev3eMqPFrZtpUZY3fCyuqlA61Hcn8Uk7JLyatN9a8M6a7lIcei70wN+P9e8eIGr9mfrcrF82fVaI9/sgNvdpfBN9yKafkF5PWG2veGdNdykOPBV4wpi8ltu7DV9Ycf7669tWQFKUX+37Oh45FugD5xaT1xpp3xnSX8tBjsRfmZrx/7xhRWLMZSdn3LdJ6U1CMMd/DXpib8f69Y0RNfwouZWB+MWm9seadMd30IXgL7IW5Ge/fO0bU9KfgUgbmF5PWG2veGdNNH4K3wF6Ym/H+vWNETX8KLmVgfjFpvbHmnTHd9CF4C+yFuRnv3ztG1PSn4FIG5heT1htr3hnTTR+Ct2CAFxr/ifwMqt/oejjjT9kdz/X0uehSBuYXk9Yba94Z000fgreg7YX45ovdJU3lkKPxt6bOq5EuhxFsRZHeQY/0dUR7xmtyxzV/xKUMzC8mrTfWvDOmmz4Eb0HDC3yJlH7nFwUMUP6It5XvbWMXXA4jDf9i/0F3R9zxXLd3CXdFaf0QdNQ5+gqNlVcGDlgnZinSFmm9k/1X0R5n3zNmr7WZIzS8gFvL3/llsWGlpMfpfSJ9qhElXBWqv8JfTFyGje7qFoSqBWNCje2cVDq4hU+XQ4KtKNIKLoegsWZsDraIMkKu/fvya2D8K5dDGTiGfISk9dL+6xLr7ek446cT5TfFnMeaF1jklkWFJU2+5iWPOmV2QdZgEEb9qLAWMGhXxkH0YmR8qsqiO2WoSealemFYzWKwFUVaYc0Ru9mc8YI01ozNwRZR5qGIMlEcIgghl9aXJmNe8KSMB1MXaUE0cAyNxVSk9XLmwTf7HmcqNg3Ycajym2LOY80L8eRHYkkDld8Ze1Vf6cS+awHDhFIuFnB8CFX32Kta4cN568TImiN2sznjBWmsWSFHmXvFGGNti/GGONRQ0MSTHGUpf4u2gbhLtOBTwURF2iKtl/ZfFws3DdhxqPKbYs5jzQv5cojLCFrQNz6EKTZi37WAQcdl4uDIBB3RUnWPvaoVPhxsRZFWWHPEbjZnvCCNNWNzcJcw9kC1aZB5Kz6WQZAO+l62HAoeHNl4HpnFkLRezn+gixswTpFW2HGoNsc0A2h4AbeWX9SqYvPW7wi5OKx0Yt+1gIkJhaBFRxRdKFfdY69qhQ8nOuIta47YzeaMF6SxZoUcAixGL+QIdapyiEvKULh+OQT47tQ3GN6SXAxI6yX8B5iYjnti04Adhyq/KeY8Gl7gmVddwfFGS1VseLkMMDQyCBmBjI3YNyaLCA6k2iGju1IMu3PYKt5iLwiaxWArirRCtZPH2ZzxgjTWHNMpZP6wbW3TFKvgpuWQBp5KPkLSejn/gepyH5sG7DhU+U0x59H2Ao40FAj9G0saYcETPPZqZIJ425cKy+MH5Xgrjo8WBvMy3lgFAfVdDgm2okgLtM+k2s/dYKgi3YfGmrEtyp88DhAYyQz1yFo5jO1fYc1AmKADyIOzNKo7jd2uSOvl/Lfmtk/ZNMDl8KbYC3Mz3r93jKjGmmM6BShsvGTxEMyxa+UQXaj2rac0TF2kBVgk1wYG1EKAiYq0RVqv6b+XaYUuTyUYp0gLqunyRRHKRTLfw16Ym/H+vWNETX8KLmVgfjFpvbHmnTHd9CF4C+yFuRnv3ztG1PSn4FIG5heT1htr3hnTTR+Ct8BemJvx/r1jRE1/Ci5lYH4xab2x5p0x3fQheAvgBWP6UmLrPtxxzR9xKQPzi0nrjTXvjOmmD8FbYC/MzXj/3jGisGYzkrLvW6T1pqAYY76HvTA34/17x4ia/hRcysD8YtJ6Y807Y7rpQ/AW2AtzM96/d4yo6U/BpQzMLyatN9a8M6abPgRvgb0wN+P9e8eImv4UXMrA/GLSemPNO2O66UPwFtgLczPev3eMqOlPwaUMzC8mrTfWvDOmmz4Eb0FHL/z1olxcic2FbSrcl/Gn7I7nevpcdCkD84tJ640174zppg/BW9DwwqevN1orKtVrrsajhfFdWWyMSOEtfNOhXq8FTb186/q8tZfAoT9+fdHl3VUEoxXpPtxxzR9xKQPzi0nrjTXvjOmmD8Fb0PBCLGMsCY2aAV415dLlcI22QlUO70XDv7rFutjLwMaMl6W95ur1pB0fHYaBZRdpBQb5mOe8zcWItF7af/mXiDbAOEVasPsZE/pFMt+j4YWqjPHA6CW/P/5+oULCooJebGcwxBcEL4uilOMgbAGaC4PEMGMjUHcFeVTTdK91/YyPuzrwOiNokQJAL7aDqBbRdPFuHAFytQ/fAgsoUhOoabcPkpzxUjTWzIjS5vAULCP54mw6BeEKJiyHlf/guePOa0ynW5w3/4zZGNMMo+EFHI8qcnBa2CKBMjM+agBGY+DFYFiOQ1gzKEOAMlp0IOMIaNQ6ocnCAwUpk9gFn5C1sGUX3WVJkwIFoIk4FIcFsIXLZkcdNMg0E58aHJ+QX/e/Q2b2ysCDfNfefTTWrPAW8inCQIGNUGFUAAYGG6HA6AUKlfFwPWvAIiwen9WBOon2YiJpvfURcavy33GSBkAt7/L8ppjzaHghnnbCFp12ghYmAhx+wEagPLIchyyjpWrRCDElQeB0EKAfk3g1kdYjAV144CUQKURk11o5rHqpXQKpFjkYzF6kdbDapfm7ycx4NdbWXLmesBGBGh2NcFJExQihJhtjyA2m4RTZWB2K82gspiKttzIiU1Xlv+NkDNC2lust8ptizqPhBRxpnOFy8QKnBS2MsYgOf8yqaMQBo1CNQ9CxipaqRR0xL4cC8dBCfs1fMo5mJOhbLUx9IfAWkQJAO8cE1KkCOw4b7dLgUiDoy+V9BcxepBWwWu1nFzZnvCBra2aol4sAfcrAwCUEeBzxUMXhK6xKXEn5KzSmxmoZxgrgs8nvQ1pvZcQ1/x0kMyYDolwkOGOd5lMaXtA5ITzPCLC1GIuHH+BoMSlU4wiOVi5eVC0aQQJYHlq0cD3VRFqPBPWtBpECPjEIGzEUZRqOz6pdvYjaJZClmSPhzqyBpbYVdtB9wAGsrZmhLteTGA+IIuggnLCT+GQ86G6MkNhrPGsGxoNQHYrzWFvMkrRe03/loh+bYyIaPt3KM9ZpPqXhBeR0uLVcvDR1tuHreIvgLnSY+nG0NPIrJ/y3bAiMr7IBAZkCavFwagQ04pLy8tAq5tmFGYfZh4vRAtSXdzkme1FBmgCaWp6GAjCc7ZxX7RpQCiTqjAezF2kBLK12sguNGS9LY81yq1AUAQYMgIsRVGiHIO/zFmWGHINzPGsGYnm4VXF2uGKKIm2R1vvEf8dpG4Dzn7dQ7OhiutPwAk417ooqqErrC5ZGHC0IyAhs1KGCwJZlWEqZI4A4KVsA1NRXySieZM3FUCRq/MlJv8shZaphRvSiAmAjQEvMa2yEDGW1axCgFUYFgFtn55cGmL1Iv2F2jsQ1HwFDFek+NNbMiFIZYzDL17hERCmoICBU0IWXkAHla5bDSDwdp5JZDEnrpf0HI+We3TSmg7/3bWJ+U8x52AtzM96/d4yo9prjQw+oHm7QUj02Kfe+qqHLYU1mMSStl/Zfl4c+jFOk39DHkfx0UC6S+R72wtyM9+8dI2r6U3ApA/OLSeuNNe+M6aYPwVtgL8zNeP/eMaKmPwWXMjC/mLTeWPPOmG76ELwF8IIxfSmxdR/uuOaPuJSB+cWk9caad8Z004fgLbAX5ma8f+8YUVizGUnZ9y3SelNQjDHfw16Ym/H+vWNETX8KLmVgfjFpvbHmnTHd9CF4C+yFuRnv3ztG1PSn4FIG5heT1htr3hnTTR+Ct8BemJvx/r1jRE1/Ci5lYH4xab2x5p0x3fQheAvshbkZ7987RtT0p+BSBuYXk9Yba94Z000fgrfgiBfibxlfln+EN9o8kPGn7I7nevpcdCkD84tJ640174zppg/BW9Dwwj9/v6Rt+W6jXuWQL74qF7/fZXocl8MiLYgv6zj+4iqB0Yp0H7qsuQrjS3GpheUXk9Yba94Z0102dB5FwwuoSe0seVI57IvLYZEW6BbrYq/3h53nyvNor5nxKWI4xei6aTk86amoASYq0hZpvfURkcVephW65AKMU6QFu3cT+kUy36PhhbflUKkBiUDlEDGASyqAmCOgQH194VMLu8T4ERy2uqvF4C5kdGc7lsT2+MpALSAu5oFgK4rUBGraxoMkZ7wUjTUzAqsYUyjG6LppOdQtWjrgrar5XUrrrY8Ysxidp+Sym8Z0uvXpbjbGNMNoeOFtOYQ+zz8PP0MLLaxtRDmCRYuN0EQXtGhM3KJc5RFoali0M6IYyRwWdyEzQ2EETaFB2JGyFvNMtA8N4h4eJzPj1WiseRk/ii58CjQyjHkXMIYJI5awBcqMf7REzZPQvG2gxmN1KsnFgLTe+ohVFmMeOWjkGbuZ3xRzHu1Awl2BFhz1mDdxjHmSq3ZlkGUqiag78wgbgdqrSFa7BMDwpizYyDraXsP0LDdHcNtJaepB39HGsLbmGEiCjUx0Mbq4n4zMqBOfNiAjqiFE5QFgriKtE9d5KpnFkLTe+ojLh3oYWbV8yhm7md8Ucx4fBRJOPg8zeVWln/OM9uh6yMwREJgRImjEpITdmRp4F2hYzBUrGRbD2aUAYsKC8mvUAhu1mGeCfSjSOtzDgylCZGa8GmtrriJToJGBHaOrUlb0Rh2F69rIJ9GYiyshpelk8hOl9dZHXGaxZcunNKbbvZuf6pszaHhhGTY41Tjb5SKUJcRAbNf5j4mAYExVstg9LkPt1QLULgFU+QVCbIS8XMOjaPg3Erf0IMkZL8XammNQibXoqsJY0QsdtEfQt1I+m8xctOtgpciQNzyttz7iMovBHweNPGM385tizuOjQKKLef7xCZk5lO044ZDRRTq4i9iDQBkKccyqOz7Zjka2cwq2xymkoHZ8xvzCNbCjy2GRfkNflIuXWv7ktlmb8co01oxbVfzgUlEdoytGIIjlcBmBlfLZJOeKJ+s88oan9dZHrLJYzCO7OWM385tizqMdSLgr6FkcbF4yzORuViCAFtzS+dcg1GQ0ErSwUWrMMrFdwwLFcFRQOWQ7NSm4HALsQ5EWRP/GjHEQjFak+9BYMyOQsQRYxmJ4a+vWyiE+VT7FRcohloF1louXWsdIWCNveFpvfcToIQBN5Y7dnLGb+U0x52EvzM14/94xotpr1iMgQdIrN8ItNAII5cbvPKwHNcDSWCmfTWMurPO1rh8G1EKAiYq0RVovZx7o8miMcYq0YPduQr9I5nvYC3Mz3r93jKjpT8GlDMwvJq031rwzpps+BG+BvTA34/17x4ia/hRcysD8YtJ6Y807Y7rpQ/AW2AtzM96/d4yo6U/BpQzMLyatN9a8M6abPgRvAbxgTF9KbN2HO675Iy5lYH4xab2x5p0x3fQheAvshbkZ7987RhTWbEZS9n2LtN4UFGPM97AX5ma8f+8YUdOfgksZmF9MWm+seWdMN30I3gJ7YW7G+/eOETX9KbiUgfnFpPXGmnfGdNOH4C2wF+ZmvH/vGFHTn4JLGZhfTFpvrHlnTDd9CN4Ce2Fuxvv3jhE1/Sm4lIH5xaT1xpp3xnTTh+AtsBfmZrx/7xhR05+CSxmYX0xab6x5Z0w3fQjegoYX4lumQHw76HlgUlAuJqXa2FPZPGV06/Klmru547m+45o/4lIG5heT1htr3hnTTR+Ct6DhhSprjymHT+BS5fDn6eOf/3Q5LNICbA7uxlddomWY+3rRMDC+kbXLGz03wURF2iKtt+U/0cVzGKdIK+x4xtwc0wyg4YXq2FflMIaZGiHrdEEBLQgJXlIBxOP3n8UfWvnrBQSoYQS9+xiXfOsxoAKVsUKtRIcZk2oWtlAGDNHKlvg+5ZfWD9UsMgS9cElZMwK2gLWONFaXIG7vSWCWIr2Dm4xPbksX2jNek8aasT90WbmerhzqFo+MDsV5NBZTkdZr+q+7tzYNwKTgo0OV3xRzHvlAiiWE7mY7dDQIBMUAZMAaAGUWCRYeDhKLkIAaNXk4uQDKHJnL4LDQhIy70uHIVf6CLEO0cuioUZPGRsgcmbPEGanMGX9UEx1xF+2v+/XGnopWuEQOxWq1tuM0ZrwsjTXTWdG/0X2MAaJG+J1d2M4AANxwIuUxYMYiNYGaVnseycWAtN6W/8pFJ9oGICYw6aeHKr8p5jzagYS7FTjSPNX4LHqvQXiKJIAqa+ASAjIFYCNAwOBWuXghhRhO1YwMNghSJhotDhvHAVgehoLAhMVGLlu3CBSWa65G46oyHWkC5bgzZxMXVqFlVEYdpDHjZdncJWwRdBiBcd/USP+iBTKcDhlRARmaMcyoQJkKY8B0RVqHJtCcU8kshqT1ElHekcZ02sRPD1V+U8x55ANJjqZQWl/A7zznaNchj90VG8wUESUI8qog2+WQI0uZoJ2jaT0AAtopAw0lQROxqkXYMc4SVwWgg16ZjpoOstY/AExapN9EQyqjDrI245VprFnOgkBvxpboR7lbAqDfIVSbHHUGkHGKDDybfISk9Zr+w11RWo/RGEcx8emh6rU2c4SMZ4kSuoRy4zUISkIUQOyu2NjMAlKI4VTNqJGlTKCPXlEAVViydFHmOBiBo8VbkThLNRrtzXSMJlQbeypvFwawMNyqgCHl9gEwTpHuQ2PNchY9iC1SCwSFGUAjWiC89Ts0IUSkMwBMV6QVsPgY2KeyuRiR1kv4ryNr08XsUGWKTfKbYs4jH0hVQgdsjwcJCkqpsbtig5WDg7xFqSSGU5waaGRoakamm9f9X+UQoF0rQV+ODzhFHBmX0WTyWtGvLpSBZt/sGE2I7WejPWlQGXWQzIxXo7HmGMbwGi7VEm8BuVUCkN/7bvKntJ0CK0Z6LT9XWi/nv16sTQev41aFEmIbaBbJfI+GF6pAigkd4Gz/OPv3fyfGZbscUmZHogGJUknsUk2tkamslWhqtKA7ZcDuhIMLtGC0cvGCaiTOwrtVUoOOJmUXsuwYTUAXqsVFngRmKdI6lVEHycx4NRprrk7Bj9v++Bf7Bpk+pX8ZDGt+hzDA42/B1EVagKV29H6GxmIq0npp/3UhY8Cnhyq/KeY8bu2FmHfMW8b7944R1VhzlU5ZAlXVcAuXRA9GMSxjOaQsRpZGTFek31RLAtXT4RlgliJtkdZr+u9lV6FLvsA4RVrH5fCO3NoLMe+Yt4z37x0javpcdCkD84tJ640174zppg/BW3BrL7gcbjLev3eMqOlz0aUMzC8mrTfWvDOmmz4Eb4G9MDfj/XvHiJr+FFzKwPxi0npjzTtjuulD8BbAC8b0pcTWfbjjmj/iUgbmF5PWG2veGdNNH4K3wF6Ym/H+vWNEYc1mJGXft0jrTUExxnwPe2Fuxvv3jhE1/Sm4lIH5xaT1xpp3xnTTh+AtsBfmZrx/7xhR05+CSxmYX0xab6x5Z0w3fQjeAnthbsb7944RNf0puJSB+cWk9caad8Z004fgLbAX5ma8f+8YUdOfgksZmF9MWm+seWdMN30I3gJ7YW7G+/eOETX9KbiUgfnFpPXGmnfGdNOH4C1oeKF6PVV83ZS5C23/4q7QO8YOgqGKdB/uuOaPuJSB+cWk9caad8Z004fgLWh4weVwAvL+7cUdz/Xmmv8KfzvljrQNxF2CkChNZ4KJirRFWq8Z5S/TCl1ciHGKtGD3dFAukvkeDS+0y2H0OxsrhfgGtX/8+aMTaoHAFsAWcwaN7a3824s7OnRzzVB4hfNd3wjYMBBnU3ZF+TzyEZLWGxvlZ0yX3xRzHnnPxmqHW4Dt0OEga+UQClImaNHb3pd3TUfa/sVd0jEJYrQi3Yf2mv/9739jr/CgH9XYiH372b4/f/IJLRQIgnzkn61oEFceWRq1ptmR/BRpvfURK5d04YzpBuy72aTtWdytQLWryh7AJc5V1f6qhqUcop2NJKaJ5WimI9XOv4Uu6JU0MjNejfaaleJi3LJysJ1FBduIRj3nVZXmu6ytJC4YyJByfQ75bUnrrY84vhziLmH6SwL9Ipnv0fBCFUiqWxRK6wumCSmwUeUQYBzc0l3o81Kol+kL9rZITeApuLtcHCM546VorDlGNcJYu1QVEsioJRCgTCHG/9dZM7CyIhp7Ho3drkjrrY8Y6xPoYhvGKdI63Mp8Jc6Mac6m4YV2OcRnufEaRLlA7ct0gNF49vCJc8hGcyoN/0aWztpNcsZL0VhzLIH88sRQX5ZDhrR2UppXYM3AygoaGI/2GTR2uyKttz5ilcW6kDQAcaDQ2SS/KeY88oEUqyBuydEqcgACu/BcMS8Inb3YxZzKmn/hIHmHzuqVuxsRdVkaa0ag4m6E+7ZWDrWZl4pwLKlIv+Fqy8XCqJNYW8yStN76iFUW60LSAASKztgm+U0x55EPpFgOgdJEPD88XWxEXwYDxmEjUHfcKk2/RzB9wfYWaYE8CHrVQoDRinQf1tbMeFbQAkQ1ldfKIYAC45+XV6DhFNzSUscsu7GYirTe+ogjyyHCRfWPoZM/V/lNMedhL8zNeP/eMaLW1vzzdP/7+Z4Phah8jXKILtCJRfTrNJxCi0hl7ElgoiJtkdZbH3Hwt0PEwc9GvvjoGRP6RTLfw16Ym/H+vWNE9V0z0m+slFfgUk7JLyatN9a8M6a7lIcei70wN+P9e8eI6rvmM76QHORSTskvJq031rwzpruUhx4LvGBMX0ps3YeOa+bPHj/6OdkALuWU/GLSemPNO2O6S3nosdgLczPev3eMKKzZjKTs+xZpvSkoxpjvYS/MzXj/OqJMLz4oh0UawhnT+dhcAXthbsb71xFlepGNpMExd8Z0PjZXwF6Ym/H+dUSZXmQjaXDMnTGdj80VsBfmZrx/HVGmF9lIGhxzZ0znY3MF5vYC/5vfpX4hejDj/etzbXqRjaTBMXfGdD42V6DhBb5cbfkbVHzpRuM3q/79+ts3VyhCLocN/wJ6ivR6IwmGKpIxx8hG0uCYO2M6H5sr0PACyiErYrl+wQKD9jHvczqIy2HDv6yF5aIfZ4xpnkk2kjZjDgrieObCIEV6x75nTCgXyXyPhhdQ8/i6Kb2MEaAFLiZsgfDy/H/fxM2311IGrKmElYlVimGDu1QjGA1TqIumhqxfbaYChOU4MRQrBRDnWi4bsAXou69WcrXXbiXByou0ABad8dvijRmN+YhsJDVijslI5xngSCut7KMxHXNNufgEH5sr0PACwgZRBGIVgT4C7KcYvsohFXgL6ZVyLIfoq+64y3ZWqTisYJViuDK0WEEhrJVDjcN5qY++UKsUIHNk3AJs1LJllMCl+i7v3gKYXKTfcGdgOz4J9+04GKpIxhwjG0mNmNPx7kh7OuWpj/CxuQINL6ASMJCgQxejlrA8vK0NalQ5ZM6NeZZDLduFBiGILhYwrQFgVVxGNU7VFywVlkdDvfCJ6dhI4qQy6l6srZk7I+uWtu/mjrtkrkk2ktZijodW578X7UOFg4RPkp8aykUy36PhBZXDV734KRgqTmph48vzP7BRlYPh8dIqcAS2vw2VODLAGj4qh1W1Wypo8OWyAQS28JJyhO03Ym3N1c50LPZ33CVzTbKRtBZzMayRRyAT5pTdYIQi/YaHSnkK2QRZhvIma2OakTS8oHLIoGI48dZPVXmVEOhQiI0KwirnAlzi7rJdaBCiAgxBYdYoh7EvWFN4u2yBS47P1bLxpsCEIi2I1sllx+k1jjHZSFqLOYZ1lWiUU3azNl2Vbj46VHlNcx4NL6gcAn6X0qVKSNSBAhtjGEABUIYmn5aqsIlgBNximo4FGINwcPblmNU41OclZExXKfwsen3ZArc4Ptq1+JsC64q0AKbJOgjVJuymMaMxH5GNpEbM4ZaOOjmvHALcYvICLoe3o+EFpEgFUqw04KeqhOJE1FiFAUspYC0EVZWKcBB1UWjFibAY5vHlOFgwdd7WXQ6udqJGTQpe6j9gotK08n9/Lg6WXaR30C7Q0TSMViRjjpGNpEbMMXPFiohzfl45xEHSWYLAzJLBx+YKnOGFj56KKlScTBfGnzKfa9OLbCS1Yy4+/AI9le8GgxTpHZwFqC5mgH6RzPc4wwt49todci6HfRl/ynyuTS+ykTQ45s6YzsfmCnT3An/kuPunES6HfRl/ynyuTS+ykTQ45s6YzsfmCtgLczPev44o04tsJA2OuTOm87G5AvCCMX0psWXMMT4ohxNQjDHfw16Ym/H+dUSZXjiSzFCcvObG5dDcF0eSGYqT19y4HJr74kgyQ3HymhuXQ3NfHElmKE5ec+NyaO6LI8kMZUDy+md42dunYHl6T5vZgcuhuS+OJDOURvJCGcPdZSX76/WW7XyFUznE56e5Evouh0dY23C+SK+i3DtGr3GMcSSZoTSSF8oYK2K5fsH3/6E9/+4YKPvb4bdIFqfXu4D6vAwoOaMxmziSzFAayYtlrHr/O1qYOoFaMAjR347ge+TBT0X9Uw7ju0zja3VZ8OL3FZXAKJsdYAOLtA590WufMzMak8GRZIbSSF4sYwBCafpTn1QOWfZ4S9UuplcqLMshGnEJAcoYH5+6BeWo5nJ4BHmnAVwZXXyQzIzGZHAkmaE0kpe+1akmoYAxb6ocSodQs6qg0lE5jHVxCUbQqjS12UfDv6TvV0OwOaMxSRxJZiiN5KUypuKHGsavdGqBDkaIsBzyLnlbDmO9JNApQ7xgIwSXwyNoJ9fAtjceTXawOaMxSRxJZiiN5KUyxq9rqGFSjuWQOhG0xGr3thxWKTgOzukoQ3A5PIJ2cg0oYPPLRQ82ZzQmiSPJDKWRvGKpQ/WCpi5VDmMZE6xnLGPooo6qgvwBHbMw/+1QtwBG1pgax+xDO/kW+KV6LjlOe0Zj8jiSzFAaySuWQ5Y9lC5eqhwCFjxRNVKzKoeAJZNwWEzHS+jjk2oQXA6PoJ18C+7Kxb1oz2hMHkeSGYqT19yM968jyvTCkWSG4uQ1Ny6H5r44ksxQnLzmxuXQ3BdHkhkKkpcxfSmxZcwxHElmKE5eczPev44o0wtHkhmKk9fcuBya++JIMkNx8pobl0NzXxxJZihOXnPjcmjuiyPJDMXJa25cDs19cSSZoTh5zY3LobkvjiQzlEby4lvTli/x4kvUPn25V3yRqRlGw798cyzp+OZSjFYkY47hSDJDaSQvlENWxHL9gjkU7SiKpclcmIZ/cYtvUQcdHdqY0ZiPcCSZoTSSF1IkvgLie4OSJkAL8iZhC9/uTfiVMb6qG6ARQ7GO6m3dsRcbqVmaXnA0cwRsY5EW4Ja+rEeHHqQxozEf4UgyQ2kkL5ZDAKE0/cmhyp6saqxnLHhooaBUy4LKRmpiQMkYh+Pzp6lS4PjmINjSIi2AZ7nhFErrYToOZR6OI8kMpZG8WA4hQIe1DVWNpetVDX/KlXRIbKfAIgehKofqBQV+lcTg+k6Ju5zIHKRdnPg0A/Tscpz2jMbkcSSZoTSSl4qWipx+cKoW6LCFqIyptkmzUQ65BgpSYC9zkIZ/4SBtMtR6bXhjRmM+wpFkhtJIXipaLFT8JsFbPyXuTzlUYQNqB1DmNz9+80iWQ6KvieYg2Mwi/UbPK0ReOE6vcYxxJJmhNJJXLFpIndDUpcoeaySLHAseix+AAnop526WQ7RwTNMR7u0SbnvlLMoHWZvRmE9xJJmhNJJXLFqx7IGfYvindEEHt4jSK2DC1Qib5RAgI/+M8gI6bDRHwE4WaUF0HCith+k4lHk4jiQzlOskr1hiAUojanC5MHsZ71+XQ9MLR5IZynWSV/zKCLCw+F3T7MPl0NwXR5IZyqWSFxYj/NWwC9jJIo1i/IxmVhxJZihOXnPjcmjuiyPJDAXJy5i+lNgy5hiOJDMUJ6+5Ge9fR5TpRTaSfp7BTG/K5j6JZ1r9HMb71xFlevFBOSyS6YTLoZkPl0NzX7KR5JjrjsuhmQ+XQ3NfspHkmOuOy6GZD5dDc1+ykeSY647L4W7ii9bMpRjvF0eC6UU2khxz3XnmlratZp0T8Vfj40vUXA4vS8Mv0bnx9XgHwWhFMuYY2Ui6S8whY/Z6U37F373/Quwzj3HDavgOd/WmNL6DW+9Rczm8BWt+oTflwSgfxJFgepGNpOMxVz34g3KjKx3LYfyTCMDlsAsNq5cv0cYl9fEp0MhY4l0Qv2pAZiNgC5QxMv+cQscvJeYt2vaK6mB2PE1rMxrzKdlIOh5zY57oq1N3BJfDM1izutptwkZEDuRYLBlLrG1RBz6S9+WvqGzOBltdpN/QC3QT6HhO12Y05lOykXQ85ngeysUf0IhTwSd3AIHZDaj2oBG5DLAdl2x/SzxmnJEok2JYyKX191/UK00v/vWvfxXpBdSYXqWmAXeDQYr0JNasfhseAI3MoctySBnQpxCiDgMJn2sjmzNobLWOOXE5NFcjG0nHY+5tVmIjaoxk6UBgauMpYhWkDj5fKm9AFx4zZkNqKjNCRuqUjHlZdNELjRAAunOu2AtwGVxS1N/N8RHuyJrV9Kx2m0QXtMshXQYdtEfQt1I2p5LcaviLR+84dq7pRTaSjsccs5KI5Y0KADJaKKNWUac6Ocp9b1E5XOsVu2OupTLmBRBiLgbVgPHWPqLhz6FhNW6p4BF5EyTLYTUCqJTNqSS3Gp7SMTyInWt6kY2k4zH3NitVjZDRQlllqapDaGwcpFgOMVqEvapyiHYI6EUB6KBulkMtdR+a8VE0rKbLtOH0jsrbW8cR3cInvR+plM2pZLYaR7ijR+xc04tsJB2PubdZqWqEjBbKr2r4phzGtLgklsPYS7zNqiyHRL1cDs+gbXV0BIg7rFtoBBDKjd8+ZaoljIRK2ZzK2lbzNInS2oO+o5knk42k4zH3NitVjZDRQjmWQ7TzWwL1VaKWqBzy+Gk08bYcYiI1RuIILoddeKbVz2G8fx1RphfZSDoec6w9EVQsFSQCWTUmlkPUIfDqVP/zUoXKIahm5MgYZ1kOAXUI5wUQ2ALZ5bALz7T6OYz3ryPK9CIbSV+MuaoOnUGskQDGHix1GZ55jJ285ma8fx1RphfZSPpizA0oh/hCqS+d/Clr4+exvXjmMXbympvx/nVEmV5kI+mLMfe2HKKAYUkV+iHnp7AEigFfDQEmKtKT4A4b05ESW8Yc4wblcFaeuaUOpLkZ719HlOlFNpIQc6Y7ZXOfxDOtfg7j/euIMr34oBwWaVJ8jMfg5DU3PkfmvmQjafqY8zEeg5PX3PgcmfuSjaTpY87HeAxOXnPjc2TuSzaSpo85H+Mx3MXqn3dAvPuPyvF3cswSnyNzX7KRNH3M+RiPoWH1P/+8eIiU1i/hcriPtuP4Hqjq96b+Dm/b3/E7TuhVJGOOkY2k6WNuvIHPPMYNq+O7gVCK9LK9r+ByuI+2f+lifJamP29m51svopznmefInEE2kg7GHDILRrhyHmkb6KfaXjSsZq6kzA2PMlEIsSyV1jDmUjkWNoyvKhtfP4RGdpEme2FJbK/mpQwF3gVsicR3O8QyzzWwXWGzqQzNaBpYlpafFb8r4SPBwoq0QrXm6HQAY+Nlhs0ZjUmSjaRkzFWxDnjOkUFiHrkgDQNhEQ9tNA22oAuTaZTzJLd0Mtr7rFT42vKf3Wb8sGxQ5j6zSPyovpRZBt4qM/Zeij+akDmC2tEYu1DGgJKjfxXGWKqGXYY9QBdqUl4OG0fYVGZ7NbVsfN3/b8cvgjUUaYVqr7SfRK7MszmjMUmykZSJcujgs1wvqOKeVOcZh5kTsZ3EMTEIG3VmIDA7oPFILkD3Iq1QHWPI1cIatr9lc8YpaViNLcVdos1c2/YYThCos6aMARljdBM7MnJ+9AIaFncBG4HalwKowhjgFhTKRRhNAmAvCHllTqFjAmRjNci30MLWqHwUtxFEk5NszmhMkmwkNWIO8Y27m0Fcxb3QeQY6DBhQypBZ56BJgamBMvQlHwGDFGmF9jHGLa48z+aMU9KwWpGAjYUaUz+jK0KduP8QWAnWlDEydBAk8BE+6Ud0ieEkOOxPIAaHcgQImhdC6fAHLphAp7T+gaPFYTkvPjPKAO2cGkbRXoAWytq974JFFmkFLJL7T7SfBLeiyRk2ZzQmSTaS1mKuCu4GVdwLnWeAWZChYguokgLRaG/v7uDgMd6xjGce44bVMaErLa4FWNx/BcyaMtvxyS5YA4qQYgyXGmotrtS+FN6CWxo/EoeN5XBTGUBZoFdpfbXj1FSN3wLLKNIKlY/ol3Kxtatv2ZzRmCTZSGrEHKIZd+O5fUsj0NE9VkEIaIlwcKYPwdFeGWNj6gwYsEgrVMe4Mge3Pl3G5oxT0rA6ZkbGAAQ6nV/jInH/ITBy1pTZjvFZMOgs+UtdWFQUV2rXYoDmxVI56RoaKhLn5aq4pE1lrGRtOpiDW/gs119FG7VGdY6YPSjHfc6zo4sxb8lGUibKoaN0tkR5ZAmPPWB3qL09+RhfI2g0dmTjETIGxmMMORrbsG6NZx7jhtXLLeUlq5RgiYobHgPmrTKAgnQwbLyF7lSGAtaguIIaWngrjqN5ocO7QIMLVjuhYUFUYDncVAaQy+0XpfXP+rWq7xIXVoG9fS28oNMU7eJufAR6FcmYY2QjKRlzyCCK8oqYRyrQzryjwwB5qYxGZiWmPCq8MsYXyiFTKmWsZLP7kh1dJuCZVh+HZ6Rc/A57HocdheQMxvvXEWV6kY2k3TFXPfaCZZ0DaI/F5u3DMqsOQF6AMhtjXjgChi3SAszFeYnWiXlLk59q0zzT6uNUT2OQ0UK58Qw6nvH+dUSZXmQj6eyYQ4XT8f4KPsZjcPLaTXwsi4+AXz87EaytSKMYP6OZlWwknRpz/C743Z/2+BiPAVYb05cSW8Yc4xLlEM+28d9FvsL4Q/XMY+zkNTc+R+a+ZCMJMWe6Uzb3STzT6ucw3r+OKNOLD8phkSbFx3gMTl5z43Nk7ks2kqaPOR/jMTh5zY3Pkbkv2UiaPuZ8jMfg5DU3PkfmvmQjafqY8zEewxir9Uvrb//Tsu6a7vgcmfuSjaTpY87HeAwNq/l2FaKXou3j1HKI7ssxDcHOFOkddPHypQH8lcp9Tm/PaEyebCRNH3PjDXzmMV6zmnVLCfHga1b87fBbNKIaPgXVO3RYIPVZWj+hMaMxH5GNpHbMMZpjlN+OtoG4SzraiNGK9CTWrGYIVXWLxYzfxgBfxUI51jO9LU+NmXKIvMxeesMLkzVlrodyNX68hRYtD7ARUIdAgY2aEbAFM/Ly1mcnItPWqMqhQEdsWrn4hM0ZjUmSjaRGzCG4wVqU34WGgUh5yphRPsgzj3F7n3E3li4WM8YVZSlAmaULnxRi42Y5RCM1qcCKxTB+qfy35sXiR6pyKBndGRsck8ldC5Dw0v1Bi5wJ7cYa2OG3iUI79imbMxqTJBtJu6McB15Px0BBD2XIIGaE6jEcoC+zDBqVqs4A4xfpN1U2ZCYtF8foNc69aFutAGDZqEpIjCUEw/K5BC1sVKVZFiGgu0S9EGlr5TBm6hgScUkQeASqs8BhuRIpA8jLtd0d7cwa1eaIapPzbM5oTJJsJO2O8tiuNITso0YlI2gCNkKNMlOG2s9jzUCtmTAVdklhzzzGGavhbm4yiLsdaw90FEJohxphLMlr1Qik8imGYi8MqEiLNY8y4OyNcshhuf4Ih+VidAnQhS37KsEFgS1FWgG2v00Uuzdhc0ZjkmQjaXeUx3ykdBNDPyYX8SqRv/La2awZWC3gbXrdx9qMc5O0GmoIjGq3Y+1RvOGToQKWYfPWX5VP1QufKlTLsGQLhoq34pI07NpZIFwSBinXr47VXPdl05C1zan2JM80W2e+TjaSdkc5QDvuxsQEoYKayCblevGYfzaYsUi/qRagnFiuD7A249ysWY0IAZRZHrDJIO52rD1QZrwxutgI5SpsqhEIx2cvKjARo0W+hoB2ykRDbZbDOOZbqrtxwLuzaYgcV9HesQbTbJ35OtlI2h3lgGkCn1J4G/q4y1wGIFR57WzWDKxSVcf1PPMYN6zGxuIuYQFTBZIC9p+y4o06ZBk21QiEoQhN9mJdJFoDdPCJFtxlC+DsMSTikjQpoI7AJQcknFELAMvjcFNgS5EWYM9pLKH7qo0Cn24FuhTJmGNkI2kz5hrlkCkpJg4kgqUyWpSYoF/ltbNpGIhbWhgWI/kgm1s6Jc+0+jmM968jyvQiG0mNmHv70FdBnXLxIvZil/Zj/tlg0iItqBZWWg+D0Yr0JJ5p9XMY719HlOlFNpIOxhyqyNsyeR18jMfg5DU3PkfmvmQj6WDMxZ+UXhMf4zE4ec2Nz5G5L9lIOhJz/Nfy6r8zXA0f4zHAamP6UmLLmGOMKIe3YLyBzzzGTl5z43Nk7ks2khBzpjtlc5/EM61+DuP964gyvfigHBZpUnyMx+DkNTc+R+a+ZCNp+pjzMR6Dk9fc+ByZ+5KNpOljzsd4DE5ec+NzZO5LNpKmjzkf4zE4ec2Nz5G5L9lImj7mfIzHsGb18kUNfBnQkd/PqUbAFGPecPRk2lHN37mqHA2noBHs8w46FsmYY2QjafqYG2/gM4/xmtVMlOXiReMtuEmOF1TzKY2ohjdB5VZcAsoohztegvjMc2TOIBtJjZiLr+q/+KtnGmDxRVpwkoEYrUhPomF19eoiXSJFvvb+17cH5NCqUS0Al8s/lQCUiONdpWCMwC+pbL9vMH8R7FuRVsAmx3IYadxqsDmjMUmykdSIOd1i2bjpw/h4AxszTkzD6pgN9WURjYCNqHyU6Qg2ogWXQFUNg1Cuvh1Ck+NzcHyyHTKHxSdkDAUZn5rC5NncNHlhCbwmJ+axm0wvspGUjDmoKcuQ6pFfCjgSkEF85MdhqBrRl9kNjThITHAkDnscDFikJlCrDNxNcsbJaFgdqxd8vcyMP8ny1YiQYAF7ixLuWjnUOETtEkjsa5JsRnW1yYLPKDs2fHNGY5JkIykTc1X2ITH6UcBY55CM1KjcBE3Axup7gNrRS3Jfdhu4m8yM89G2Wv5FAOixAzJ6EYYK1JYPQ2gsSr//ZJj8hZHZjkFiFCkspUDQt9ejz3PAphVphWqTBTrue8DdnNGYJNlIysQcopzZKhJTEhSYhtCiRMOnQsrip0K+hlKqIhgBlIuu7DZwN5kZ56NtNd2NkJDT456/gqKUw1jPANoVGEq4jXLIcYjaJRD0dTn8lM2orjaZoBfay8WHbM5oTJJsJGWiPNatCKIfd2NuglBBTYxQrtf/Gj5Gw921uXaDMYu0QsPAfWzOOCWbVtO5So4MHsq4xahAi8aBjCB5FbhS4dBdCRdqKmnQZDufwNQOmd9LpECijkkiv6xRbTLTAvd/H5szGpMkG0ntmIvpaQlLGj7fJimBu8poym7sy8ZIVO7CEQP30X3AW7BpNdwKHX2lY7okr6D4b4SwMQYVwS01Sg1yTMSIK7YD5WKXw+Ng04q0AHv72u8Ct1oOEp/uOboUyZhjZCOpEXMI6PbXJmY0VkS2xIQl0IJ8RBn60IGwVg5xlwq9OGLgPp55jJ9p9XMY719HlOlFNpLWYi4+vJNlnQN8MCwXL9hC2OXt94CqHJbbA39YmjRwBxiqSE/imVY/h/H+dUSZXmQj6WDMobb1qiIn4WM8BievufE5MvclG0kHYy7+pPSa+BiPAVYb05cSW8YcY0Q5/M/eX7AdyfhD9cxj7OQ1Nz5H5r5kIwkxZ7pTNvdJPNPq5zDev44o04sPymGRJsXHeAxOXnPjc2TuSzaSpo85H+MxOHnNjc+RuS/ZSJo+5nyMx+DkNTc+R+a+ZCNp+pjzMR7DAKv/uXijKcHUfsvM2fgcmfuSjaTpY87HeAxrVqOAxVcr8O0H8ZdzKoUGm+UQCoCNpi/tqOZ/Mq82H25FIylNn7CvlzFLspE0fcyNN/CZx3jNatY//TYOCiEuY96E/LbILVnTxID+dng2jaiGX+gafJam11OOnIW6yHdRfURjRmM+IhtJjZhj5iKK7NuBxRdpwUkGYrQiPYmG1fFdDa+X9P283JmXADKLGVwAmVTlEyjnsp2DAPbiCBwcAi4xqQZkI2GLKK1mi829wm7Hchhp3Gpg75heZCOpEXO6xZR08V+3X2O8gY0ZJ6ZhNaqRsiGqFL8vsoCxbkGgC14qPzIboyYVWA6jMgaXzk8x/FMO0Ug5DoJlRIWbhvRX0Iav0ah56AuXlYs0mzMakyQbScmYgxoTioiP/EAKOBKQATMaQQ6qGtGXuQmNOEjMWWTHyWmAAYvUBGqVgbtJzjgZDatZeygwAOB3EAUEA0sdoTuqDCudt8oQNJpmJNBnUMWgVS+TIe7nWypnAVyiF4jOyrM5ozFJspGUiTlEc6xtJEY/UozSnBqVm6AJ2Ag1yugSzwl6Se7LbgN388xj3LYad1neGBIKGHyyJil1iqhPFCQQVNUAlSG8Iu59OVTHqOBvh3nifr4FO4ztLRe/wZ5vdl+yo4sxb8lGUiPmmDJIaQrw+xwTitINWpiYQJWSyCtf/UqIBCOsnaWDvF08aRu4m76j3YW21XA60yXLGIMnRghuMYQiVYaVTqXMoSAouqrYix3RTmJBNZtgx4q0QuWsSMwVeTZnNCZJNpIyMcdojgmIMMvEWIdQQU1UvnK9/ud/maqqxuNgzCKts2bgPjIzzkfbarobOsqJcDdalEChsByBVY2lDt6BTB9RfqmUsEmWQzRqAeYj4n6+BTssbwLIdAqI/sqzo4sxb8lGUjLmlGgizHH41DHAaDoDAnfVV+MsyyGJyl04YuA+nnmMN62GQkyXTJEIg3L9p0VUjXQQLtmOodjOQEqWQyizF1nGqlkD21WkBfIFoZfpAkHNj9jXy5gl2UhaizlEc0xeUFMmEvxSxYrIFiSj2IsoGQHoM2GtlcNXQhtRDjMG7mNtxrm5vtUMV307XItA85bx/n3mOTJnkI2kRsyhWuAuWSsV1CkXL2Iv1humIaJqVyWjcnvsD0szBu4AoxXpSVzf6uorIzzO+DQZxvv3mefInEE2kg7GHGrbxXOKj/EYbmE1SiDWSfzV8COwY0UaxfgZzaxkI+lgzCGn6Cel18THeAxOXnPjc2TuSzaSjsQcf/p08f+q52M8BlhtTF9KbBlzjBHl8BaMN9DH2BhjrsMH5dB0p2yuMcaYb/NBOSzSpIw30OXQGGOug8thweXQGGOejMthweXQGGOejMthweXQGGOejMthweXQGGOejMthweXQGGOeTIdyGF/pCf5zz9f/Y+VFWnCSgRiqSMYYY75Nn3LY8cXW32K8gS6HxhhzHU4vh9XbSjEOv13pK1d8RfJff/1VNaIvNNmOWeJfvej7ElQMWKQFLofGGDM9fcrhT3V6wb/KFEEhgQJl/bWm+AcuILMXNFV1oEYZXTCs2k+qTACzFGlB28DdYLQiGWOM+TYdyqHgV7eqXLGR7+9WMUOL/gWOL/imLFQjVUEJRgDloiu7DdxNZkZjjDFj6FkOAWrYslyhBSUk1kUIFdRE5SvX638NH6PhbtV4HIxZpCZvDdxHckZjjDED6F8OWcYiLGn4VCHBaMv/n4m76qtxluWQROUuHDFwHy6HxhhzHY6WQ1Q1lQf+2HNZ5/i9kBWRLeiy/I6FFv0cEvocdq0c/hSlIeUwY+A+1mY0xhgznqPlEKBc4S5ZKxUodbhbLl6whbA0smoSVbuqHJbbY39YmjFwBxitSMYYY75Nh3KYAbVt+XXwUowvTi6HxhhzHQaVQ3zB0k9Kr4nLoTHGPJkR5ZD/5Mb/U3pZXA6NMebJjCiHt8Dl0BhjnswH5dB0p2yuMcaYb/NBOSzSpIw30OXQGGOug8thweXQGGOejMthweXQGGOejMthweXQGGOejMthweXQGGOejMthweXQGGOeTLdyqPd0l+u7Md5Al0NjjLkO3crhP19MXA67G+hyaIwx16FPOfz3628Zvv1jTGiJbyvFOPyjENCHDGKXv/76q2rkyGzX3xAmfV+CigGL9I6Ggbtpz2iMMWYkHcohSxQ+31YL1DAUEspSiH/gAjKAAE3ARqhRRhcMrnb0ktyX3QbupjGjMcaYwXQohypRb6uFaglkaaJFfziQL/imLFQjqzExAigXXdlt4G4aMxpjjBnM0XIYK8RatWA5iXURQgU10b1cr/81fIyGux3LEsGYRfpNxsB9rM1ojDFmPEfLIYoWblVUfzKeVQSf+mK31AG4yxIIfr4brpRDEpW7gCUV6TeY5WXTL5aL3wHGKZIxxphvc7QcRtZKF78XsiKyBTVGpVGgRf8uCP12OcRdKvTiiIH7cDk0xpjrMKIcApS6agS2EJZGVk2ialeNWW4P/GFpxOXQGGNmpWc5bIDatvw6eCnGFyeXQ2OMuQ6DyiG+VOGrVbm4JC6HY4DVZiRl340xW4woh/xVCv6f0ssyPnE8M1U5QY/Eu21Mnuxpwbky3Smb+ySeafW38G4bk+eDclikSRlvoMuhORvvtjF5sqfF5bA7LofmbLzbxuTJnhaXw+64HJqz8W4bkyd7WlwOu+NyaM7Gu21MnuxpcTnsjsvhF/lr8afE3r5KvuL1coie70I6m02LjDEie1qmP1fjDXxmqrqC1X///beq4L9fQHA5NObhZE9L+1whoUCB3CtfCKy8SO84w0AMVaQncQWr4cHqHUnRv4CN5eLPn9uMrxXECPEvtAC0AMqotVJjy7fAGopkjNkie1oa54qppFzclvEGPjNVXcFqfhGsKmL17RAljaUuvkQi1ry1cojaeZ33EV5ht425C9nT0jhXSBxIGeViAe6inJSL1zhU1rO2fmwFkFCqRvSFJtv1RxNJHPY4GLBIC9oG7qYx48Rcx+qfGApFsSqHEbQzAF4lb7scro0znuusxJjrkz0ta+eKSQEFA59ECYLEh2UUMNY5JA41xjwC2Ag1yvxmpnb0ktwXzFKk32wauBsMVaQncTWr4VmGYlUOeSny5RAgRNmrV6jsBmsokjFmi+xpWTtXTApMFgAZgQVPxKyhYha7VGmIKLmoghKMwOTVnd0G7mZtxrm5mtUKsBiHldMlKywJ2hnYoLoFEOq9QmU3V9ttY65M9rSsnatY7cDb2sYqGDUhVFAT6aNc//lvCFU5BBgNd7snGoxZpN9kDNxHr3HuxRWsRvDIoa/nq58HrOjoKPPnEyyHCGMqE4zDxztGRVUOl6E7nivstjF3IXtaGudKyQK8rRbMC/hUKoldBO4qofw8aa+UQxKVu3DEwH30GudeXMFqOpHE8gYZLYw31DkpoIUBwDIJYhUEUEALA5KDEBbUL4I1FMkYs0X2tDTOFc4/kLysUkwirIhsgY66CLQwywDot8sh7lKhF0cM3MczU9Uzrf4W3m1j8mRPS/tc4S5R2ahAO+6WixdsIeylR2+galeVw3J74A9LCScFawbuAKMV6Uk80+pv4d02Jk/2tBw8V6htHQvJGYxPHC6H5my828bkyZ6Wg+cq/qT0mrgcjsEJeiTebWPyZE/LkXPF/3Hw9f9W0GZ84nhmqoLVZiRl340xW4woh7dgvIHPTFUOpJE8M8aM2Uf2tOBcme6UzX0S01t9KQOfGWPG7OODclikSRlv4DNTlQNpJM+MMWP2kT0tzmLdeWaqciCN5JkxZsw+sqfFWaw7z0xVDqSRPDPGjNlH9rQ4i3XnmanqDKv/9p8YXOGZMWbMPrKnZfpzNd7AZ6aqhtXxRUWgtCa4UTmkaWDMgjFRkYwxW2RPy/TnaryBz0xVDatRIfTS2o9eY3SXcviPf/yDrx6s5PN4ZowZs4/saVk7V/GPA4hy71asLfs8A3uNcy8aVsdyGN9VG19mq3cbxcZblEMGUrl4Gbim2ZEBUxgzDdnTkjxXeOAd8Mx7BuMNfGaqalgdyyFk7bO6xBKCYkll1sXrl8NY4MGYVzWtLcYYsyR7WjLniokJ57xcv0AK0BM9kALyF2QQcwQyYNWIvsyMaET6e/tFoQsYsEjrvDVwN5kZ56NhtUKCLPeZ+49P1pLSepMfllblULaU63NYW4wxZkn2tGTOFYrWMivFVKWMEDUhAwjQBGyEGmV0wdRqRy/Jfdlt4G6emaoaVkfnsuCxIjIGBMthLC3o1dEvB8EKi/SbqhzSQJdDY65D9rRsnis+7TJ/ReJTsPJd1GReoCxUI6skghFOSny7DdzN5oxT0rBa4UF4GcuGYqmKmVuUw2rNVWCfxNpijDFLsqdl81whJa0db+Y15TK0QKigJkYo1+t/DR+j4W73VIIxi7RCw8B9bM44JQ2rYzlktKCExCqCu5AVQlSmwvXLIdCaAWJJ8nk0FmOMqciels1zBQWUrnLxG5Y0fCpnQRlZjLLAXZZA8Ppy+L4ckqjchSMG7mNzxilpWA2f4q7QbsPRbKHAcsgqCKrQ+jpYUpEWsMaTvtG7BiYqkjFmi+xpaZ8rPOc2vjkxCzBtsQW5YJm/0KLnZeWLtXKIu1ToxRED9/HMVDW91Zcy8JkxZsw+sqelfa5wt/2THz74l4sX8asAS2P17MxqV5XDcnv4D0txt/uPttozzsr0Vl/KwGfGmDH7yJ6Wg+cKtW35dfBSjE8cz0xV01t9KQOfGWPG7CN7Wg6eq/iT0msyPnE8M1XBajOSsu/GmC1GlEP+rwf+D4jLMj5xPDNVTW/1pQx8ZowZs4/sacG5Mt0pm/skprf6UgY+M8aM2ccH5bBIkzLewGemKgfSSJ4ZY8bsI3tanMW688xU5UAayTNjzJh9ZE+Ls1h3npmqHEgjeWaMGbOP7GlxFuvOM1PVeKvj6x0GcCm3PjPGjNlH9rRMf67GG/jMVLVpNRQEX8VwkEuVw8FvWG0vxhgTyZ6W6c/VeAOfmaoaVrNUxNKFsnH811WvUw6xEi4Gn6XpZJ4ZY8bsI3taGucqvlyt+7vThoHFF2nBSQZitCI9iYbV2NtG3cI3xZcHfojvf0ev0hpGRhFliypQuXE+cRlvcTk05ppkT0vjXOGWHuFxzrv8gGs84w18Zqpas7r9rgbsuR5EWOqoiUa5Qzp8fGHJpLLLoTFmk+xpaZwrpR6AlKT0RJChVEuAlJERIAOlOYC+VSP6sgKhEXkkflGLwx4HAxZpAW41DNxNY8aJWbOa5ZAyaxihlyHIBYBBFbsAxgY+q3oD2eXQGLNJ9rQ0zhWOt9LQUi0efqQw1jlUFDWqwEATsBFqlJkZ1X5eattt4G46DnUj1qxmbcMml+sXLHsQqlsMA3TRYxOBGhpxixFFzouZt2y6FYtR8J/N5mKMMSJ7WtrnikULxEd4giyGduYyJaaoyTxIWahGqoISjHBSKlmuIdIwcDftGWelYTVuVXUrlsO482yvIkeRVtUbyC6HxphNsqelca6Qm/QwDjXJgvko1kUIFdTEUOV6/c//YjTcrRqPgzGLtGDTwH00ZpyYhtV85oilCzvPcog9l8epRjm6BgLLDMskyydGq8Y8m4aBxOXQmGuSPS1r56oqV9UDO6EOPpUFoBMf9gnuxtRGuRpfROUuHDFwH73GuRdtq/nMJOLOw+Ol9fcIpen3L/OxCgIG0kXKYTQBxAWfBGYpkjFmi+xpWTtX8UkcIPUsqxdzHCsiW6C2zAVoUdqCPnQgrJXDnyQ3pBxmDNzH2oxzM73VlzLwmTFmzD6yp6VxrvQkTkrrb/hcXC5exCdllsb4zUDVriqH5fbYH5ZmDNxBx6FuxPRWX8rAZ8aYMfvInpaD5wq1bfl18FKMTxzPTFXTW30pA58ZY8bsI3taDp6r+JPSazI+cTwzVcFqM5Ky78aYLUaUQ/7zG/9P6WUZnzicqowx5jqMKIe3wOXQGGOezAfl0HSnbK4xxphv80E5LNKkjDfQ5dAYY66Dy2HB5dAYY56My2HB5dAYY56My2HB5dAYY56My2HB5dAYY56My2HB5dAYY55Mh3LI37InfNHoHcHii7TgJAMxWpGMMcZ8m6PlkO/d1gvYonwvxhu4NqMxxpjxHC2HqA3xj0v8vfjTptXbSjEO/1iS/qJF7I7vXlUj+kKT7Rg8/tWLXmWJYMAi/WbTwN2szWiMMWY8R8shf5DICgeq4gFi/dDd+AcuIAMI0ARshBpldMH4akcvyX3ZbeBu1mY0xhgznqPlEKA+4a6oqgW/z/H93SpmaFGBYb2hLFQjq/KDEUC56MpyDaJt4G4wVJGMMcZ8mw7lMILKsSxXaEF7rIs/VeU31ESlKdfrfw0fo+Fur5okMGaRmrw1cB/JGY0xxgygczlEleL3vwhLGj5VSDCavh0K3GUJBK8vh+/LIYnKXThi4D5cDo0x5jr0LIeoT2/V+L2QFZEt0Fx+x0KLKg302+UQd6nQiyMG7qPjUMYYYw6SzchruZulTpTWBSh11V22EJbGOJSqXVUOy+2BPyxNGriDvqMZY4w5QjYjH8zdqG3Lr4OXYnxxcjk0xpjrMKgcxp+UXhOXQ2OMeTIjyiF/lYL/p/SyuBwaY8yTGVEOb4HLoTHGPJkPyqHpTtlcY4wx3+aDclikSRlvoMuhMcZcB5fDgsuhMcY8GZfDgsuhMcY8GZfDgsuhMcY8GZfDgsuhMcY8GZfDgsuhMcY8mT7lkL9oX72G7e/wZwKXf7/iamCRRXrHWwMP0p7RGGPMSDqUQxQJUP0hwH+//oo930QTZVJdXoFPDTxOY0ZjjDGD6VAOSVUtWD/KxeLPBK6VQ7TreyQUpIbukEE1RdWIKfiucDSiBvMrHdn8egqdIq3gcmiMMRNzVjms3tmNW/yDTQSjvS2HP3/V6Y+aBox9IbOsokXjYzTKuCUZfPTe8E8NPM7mjMYYY4YxqBy+ytwPGCcCtaLxgt/nKHOE+B0RoKXqAlQjl2vAjOViC827hsuhMcZMzKByiFuxMsUKV8GOqosshxGVw3L94m05BFDG3UwZg1qRVnA5NMaYiTmrHEJmiSJVdcRoa+WQ4+CT5bP6digwoMbXXOzLxkhUXsPl0BhjnsxZ5RCX6oJCWHXH5Vo55PdCFDD95xcMu/yZp+or6yWr3VrFQiMVGlQrXLI2+G42ZzTGGDOMbEZu5G4UCdwVqhnxXwrXit9bUOpAuXiByzLQ//wPSyOrJkHLshyyTJJMGYNakRasGXgQDFUkY4wx36ZDOewO6s3y6+DZjC9OLofGGHMdrlgOMZd+UjoMl0NjjHkylyuHy39oHIPLoTHGPJkPyqHpTtlcY4wx38YZ2RhjjHE5NMYYY1wOjTHGGOByaIwxxrgcGmOMMS6HxhhjDHA5NMYYY1wOjTHGGJdDY4wxBrgcGmOMMS6HxhhjjMuhMcYYA1wOjTHGGJdDY4wxxuXQGGOM+b//+7//BzU9NjRAAGvCAAAAAElFTkSuQmCC)"
      ],
      "metadata": {
        "id": "vf8vQspd_5Tr"
      }
    },
    {
      "cell_type": "markdown",
      "metadata": {
        "id": "K8n5PNLeXDME"
      },
      "source": [
        "# Modeling"
      ]
    },
    {
      "cell_type": "markdown",
      "metadata": {
        "id": "BS3XCADuzNb-"
      },
      "source": [
        "##Separating Train and Test"
      ]
    },
    {
      "cell_type": "code",
      "execution_count": 17,
      "metadata": {
        "id": "zmsZ0E5LXBgm"
      },
      "outputs": [],
      "source": [
        "from sklearn.linear_model import LogisticRegression\n",
        "from sklearn.tree import DecisionTreeClassifier\n",
        "from sklearn.ensemble import RandomForestClassifier\n",
        "from sklearn.neighbors import KNeighborsClassifier\n",
        "from sklearn.naive_bayes import GaussianNB\n",
        "from sklearn.model_selection import cross_val_score\n",
        "from sklearn.model_selection import train_test_split\n",
        "\n",
        "from sklearn.model_selection import train_test_split, cross_validate, StratifiedKFold, GridSearchCV, cross_val_score\n",
        "from sklearn.metrics import roc_auc_score, roc_curve, RocCurveDisplay, precision_recall_curve, PrecisionRecallDisplay\n",
        "from sklearn.metrics import accuracy_score, precision_score, recall_score, f1_score\n",
        "\n",
        "from sklearn.metrics import confusion_matrix, ConfusionMatrixDisplay, classification_report\n",
        "from yellowbrick.classifier import DiscriminationThreshold \n"
      ]
    },
    {
      "cell_type": "code",
      "execution_count": 18,
      "metadata": {
        "id": "agalN9iZmgR5"
      },
      "outputs": [],
      "source": [
        "X = data.drop('status',axis=1)\n",
        "y = data['status']\n",
        "\n",
        "train_ratio = 0.8  # train set 80%\n",
        "test_ratio = 0.2  # test set 20%\n",
        "\n",
        "X_train, X_test, y_train, y_test = train_test_split(X, y, test_size=1 - train_ratio)"
      ]
    },
    {
      "cell_type": "code",
      "execution_count": 19,
      "metadata": {
        "colab": {
          "base_uri": "https://localhost:8080/"
        },
        "id": "_Q93oTvyeHS8",
        "outputId": "2ae4e42a-228a-409e-dff4-de85d9c524c4"
      },
      "outputs": [
        {
          "output_type": "stream",
          "name": "stdout",
          "text": [
            "Train features: (193647, 9)\n",
            "Train target: (193647,)\n",
            "Test features: (48412, 9)\n",
            "Test target: (48412,)\n"
          ]
        }
      ],
      "source": [
        "print(f\"Train features: {X_train.shape}\")\n",
        "print(f\"Train target: {y_train.shape}\")\n",
        "print(f\"Test features: {X_test.shape}\")\n",
        "print(f\"Test target: {y_test.shape}\")"
      ]
    },
    {
      "cell_type": "code",
      "execution_count": 20,
      "metadata": {
        "colab": {
          "base_uri": "https://localhost:8080/"
        },
        "id": "kq8Z7sG3eoin",
        "outputId": "608d9a37-bd21-48c7-8585-2bde56d842ee"
      },
      "outputs": [
        {
          "output_type": "execute_result",
          "data": {
            "text/plain": [
              "1    149503\n",
              "0     44144\n",
              "Name: status, dtype: int64"
            ]
          },
          "metadata": {},
          "execution_count": 20
        }
      ],
      "source": [
        "y_train.value_counts()"
      ]
    },
    {
      "cell_type": "markdown",
      "metadata": {
        "id": "OGDTt-Mmze2a"
      },
      "source": [
        "karena terdapat adanya imbalance class, kita akan melakukan oversampling pada data training dengan metode SMOTE"
      ]
    },
    {
      "cell_type": "code",
      "execution_count": 21,
      "metadata": {
        "colab": {
          "base_uri": "https://localhost:8080/"
        },
        "id": "nPmX0meXzt8_",
        "outputId": "b107ac4f-7b31-4c26-8560-76079e42d58b"
      },
      "outputs": [
        {
          "output_type": "execute_result",
          "data": {
            "text/plain": [
              "1    149503\n",
              "0    149503\n",
              "Name: status, dtype: int64"
            ]
          },
          "metadata": {},
          "execution_count": 21
        }
      ],
      "source": [
        "from imblearn.over_sampling import SMOTE\n",
        "# oversampling\n",
        "X_train_over, y_train_over = SMOTE().fit_resample(X_train, y_train)\n",
        "\n",
        "# distribution target after oversampling\n",
        "pd.Series(y_train_over).value_counts()"
      ]
    },
    {
      "cell_type": "code",
      "execution_count": 22,
      "metadata": {
        "id": "8D2mDI4f0bp4"
      },
      "outputs": [],
      "source": [
        "# Model assignment\n",
        "dtc = DecisionTreeClassifier()\n",
        "rfc = RandomForestClassifier()\n",
        "knn = KNeighborsClassifier() \n",
        "logreg = LogisticRegression()\n",
        "nb = GaussianNB()\n",
        "\n",
        "# Assign model to a list\n",
        "models = [dtc, rfc, knn, logreg, nb]\n",
        "\n",
        "model_name = []\n",
        "\n",
        "# Get Classifier names for every model\n",
        "for name in models:\n",
        "    names = str(type(name)).split('.')[-1][:-2]\n",
        "    # Append classifier names to model_name list\n",
        "    model_name.append(names)"
      ]
    },
    {
      "cell_type": "markdown",
      "metadata": {
        "id": "uJO7AF382Yvy"
      },
      "source": [
        "## Cross Validation"
      ]
    },
    {
      "cell_type": "code",
      "execution_count": 23,
      "metadata": {
        "colab": {
          "base_uri": "https://localhost:8080/"
        },
        "id": "zq2W_3VN2eLr",
        "outputId": "4a572b68-18e3-47c4-f5dd-23ae53ebb852"
      },
      "outputs": [
        {
          "output_type": "stream",
          "name": "stderr",
          "text": [
            "[Parallel(n_jobs=-1)]: Using backend LokyBackend with 2 concurrent workers.\n",
            "[Parallel(n_jobs=-1)]: Done   5 out of   5 | elapsed:    8.5s finished\n",
            "[Parallel(n_jobs=-1)]: Using backend LokyBackend with 2 concurrent workers.\n",
            "/usr/local/lib/python3.7/dist-packages/joblib/externals/loky/process_executor.py:705: UserWarning: A worker stopped while some jobs were given to the executor. This can be caused by a too short worker timeout or by a memory leak.\n",
            "  \"timeout or by a memory leak.\", UserWarning\n",
            "[Parallel(n_jobs=-1)]: Done   5 out of   5 | elapsed:  2.6min finished\n",
            "[Parallel(n_jobs=-1)]: Using backend LokyBackend with 2 concurrent workers.\n",
            "[Parallel(n_jobs=-1)]: Done   5 out of   5 | elapsed:   10.2s finished\n",
            "[Parallel(n_jobs=-1)]: Using backend LokyBackend with 2 concurrent workers.\n",
            "[Parallel(n_jobs=-1)]: Done   5 out of   5 | elapsed:    7.1s finished\n",
            "[Parallel(n_jobs=-1)]: Using backend LokyBackend with 2 concurrent workers.\n",
            "[Parallel(n_jobs=-1)]: Done   5 out of   5 | elapsed:    0.5s finished\n"
          ]
        }
      ],
      "source": [
        "# Cross validation for each model \n",
        "dtc_score = cross_val_score(models[0], X, y, scoring='accuracy', cv=5, n_jobs=-1, verbose=1)\n",
        "rfc_score = cross_val_score(models[1], X, y, scoring='accuracy', cv=5, n_jobs=-1, verbose=1)\n",
        "knn_score = cross_val_score(models[2], X, y, scoring='accuracy', cv=5, n_jobs=-1, verbose=1)\n",
        "logreg_score = cross_val_score(models[3], X, y, scoring='accuracy', cv=5, n_jobs=-1, verbose=1)\n",
        "nb_score = cross_val_score(models[4], X, y, scoring='accuracy', cv=5, n_jobs=-1, verbose=1)"
      ]
    },
    {
      "cell_type": "code",
      "execution_count": 24,
      "metadata": {
        "colab": {
          "base_uri": "https://localhost:8080/",
          "height": 206
        },
        "id": "E2XIIi_f58YX",
        "outputId": "76c977aa-8326-4b59-9dd9-eac2c4ca6844"
      },
      "outputs": [
        {
          "output_type": "execute_result",
          "data": {
            "text/plain": [
              "                               0         1         2         3         4\n",
              "DecisionTreeClassifier  0.629493  0.621726  0.674667  0.664918  0.620830\n",
              "RandomForestClassifier  0.741386  0.714575  0.750413  0.749298  0.719940\n",
              "KNeighborsClassifier    0.738288  0.737751  0.730273  0.734838  0.732829\n",
              "LogisticRegression      0.747604  0.767330  0.766422  0.773321  0.770982\n",
              "GaussianNB              0.711786  0.752128  0.750888  0.774064  0.716759"
            ],
            "text/html": [
              "\n",
              "  <div id=\"df-0eacc49b-3444-4a87-bad9-6e66c0e33406\">\n",
              "    <div class=\"colab-df-container\">\n",
              "      <div>\n",
              "<style scoped>\n",
              "    .dataframe tbody tr th:only-of-type {\n",
              "        vertical-align: middle;\n",
              "    }\n",
              "\n",
              "    .dataframe tbody tr th {\n",
              "        vertical-align: top;\n",
              "    }\n",
              "\n",
              "    .dataframe thead th {\n",
              "        text-align: right;\n",
              "    }\n",
              "</style>\n",
              "<table border=\"1\" class=\"dataframe\">\n",
              "  <thead>\n",
              "    <tr style=\"text-align: right;\">\n",
              "      <th></th>\n",
              "      <th>0</th>\n",
              "      <th>1</th>\n",
              "      <th>2</th>\n",
              "      <th>3</th>\n",
              "      <th>4</th>\n",
              "    </tr>\n",
              "  </thead>\n",
              "  <tbody>\n",
              "    <tr>\n",
              "      <th>DecisionTreeClassifier</th>\n",
              "      <td>0.629493</td>\n",
              "      <td>0.621726</td>\n",
              "      <td>0.674667</td>\n",
              "      <td>0.664918</td>\n",
              "      <td>0.620830</td>\n",
              "    </tr>\n",
              "    <tr>\n",
              "      <th>RandomForestClassifier</th>\n",
              "      <td>0.741386</td>\n",
              "      <td>0.714575</td>\n",
              "      <td>0.750413</td>\n",
              "      <td>0.749298</td>\n",
              "      <td>0.719940</td>\n",
              "    </tr>\n",
              "    <tr>\n",
              "      <th>KNeighborsClassifier</th>\n",
              "      <td>0.738288</td>\n",
              "      <td>0.737751</td>\n",
              "      <td>0.730273</td>\n",
              "      <td>0.734838</td>\n",
              "      <td>0.732829</td>\n",
              "    </tr>\n",
              "    <tr>\n",
              "      <th>LogisticRegression</th>\n",
              "      <td>0.747604</td>\n",
              "      <td>0.767330</td>\n",
              "      <td>0.766422</td>\n",
              "      <td>0.773321</td>\n",
              "      <td>0.770982</td>\n",
              "    </tr>\n",
              "    <tr>\n",
              "      <th>GaussianNB</th>\n",
              "      <td>0.711786</td>\n",
              "      <td>0.752128</td>\n",
              "      <td>0.750888</td>\n",
              "      <td>0.774064</td>\n",
              "      <td>0.716759</td>\n",
              "    </tr>\n",
              "  </tbody>\n",
              "</table>\n",
              "</div>\n",
              "      <button class=\"colab-df-convert\" onclick=\"convertToInteractive('df-0eacc49b-3444-4a87-bad9-6e66c0e33406')\"\n",
              "              title=\"Convert this dataframe to an interactive table.\"\n",
              "              style=\"display:none;\">\n",
              "        \n",
              "  <svg xmlns=\"http://www.w3.org/2000/svg\" height=\"24px\"viewBox=\"0 0 24 24\"\n",
              "       width=\"24px\">\n",
              "    <path d=\"M0 0h24v24H0V0z\" fill=\"none\"/>\n",
              "    <path d=\"M18.56 5.44l.94 2.06.94-2.06 2.06-.94-2.06-.94-.94-2.06-.94 2.06-2.06.94zm-11 1L8.5 8.5l.94-2.06 2.06-.94-2.06-.94L8.5 2.5l-.94 2.06-2.06.94zm10 10l.94 2.06.94-2.06 2.06-.94-2.06-.94-.94-2.06-.94 2.06-2.06.94z\"/><path d=\"M17.41 7.96l-1.37-1.37c-.4-.4-.92-.59-1.43-.59-.52 0-1.04.2-1.43.59L10.3 9.45l-7.72 7.72c-.78.78-.78 2.05 0 2.83L4 21.41c.39.39.9.59 1.41.59.51 0 1.02-.2 1.41-.59l7.78-7.78 2.81-2.81c.8-.78.8-2.07 0-2.86zM5.41 20L4 18.59l7.72-7.72 1.47 1.35L5.41 20z\"/>\n",
              "  </svg>\n",
              "      </button>\n",
              "      \n",
              "  <style>\n",
              "    .colab-df-container {\n",
              "      display:flex;\n",
              "      flex-wrap:wrap;\n",
              "      gap: 12px;\n",
              "    }\n",
              "\n",
              "    .colab-df-convert {\n",
              "      background-color: #E8F0FE;\n",
              "      border: none;\n",
              "      border-radius: 50%;\n",
              "      cursor: pointer;\n",
              "      display: none;\n",
              "      fill: #1967D2;\n",
              "      height: 32px;\n",
              "      padding: 0 0 0 0;\n",
              "      width: 32px;\n",
              "    }\n",
              "\n",
              "    .colab-df-convert:hover {\n",
              "      background-color: #E2EBFA;\n",
              "      box-shadow: 0px 1px 2px rgba(60, 64, 67, 0.3), 0px 1px 3px 1px rgba(60, 64, 67, 0.15);\n",
              "      fill: #174EA6;\n",
              "    }\n",
              "\n",
              "    [theme=dark] .colab-df-convert {\n",
              "      background-color: #3B4455;\n",
              "      fill: #D2E3FC;\n",
              "    }\n",
              "\n",
              "    [theme=dark] .colab-df-convert:hover {\n",
              "      background-color: #434B5C;\n",
              "      box-shadow: 0px 1px 3px 1px rgba(0, 0, 0, 0.15);\n",
              "      filter: drop-shadow(0px 1px 2px rgba(0, 0, 0, 0.3));\n",
              "      fill: #FFFFFF;\n",
              "    }\n",
              "  </style>\n",
              "\n",
              "      <script>\n",
              "        const buttonEl =\n",
              "          document.querySelector('#df-0eacc49b-3444-4a87-bad9-6e66c0e33406 button.colab-df-convert');\n",
              "        buttonEl.style.display =\n",
              "          google.colab.kernel.accessAllowed ? 'block' : 'none';\n",
              "\n",
              "        async function convertToInteractive(key) {\n",
              "          const element = document.querySelector('#df-0eacc49b-3444-4a87-bad9-6e66c0e33406');\n",
              "          const dataTable =\n",
              "            await google.colab.kernel.invokeFunction('convertToInteractive',\n",
              "                                                     [key], {});\n",
              "          if (!dataTable) return;\n",
              "\n",
              "          const docLinkHtml = 'Like what you see? Visit the ' +\n",
              "            '<a target=\"_blank\" href=https://colab.research.google.com/notebooks/data_table.ipynb>data table notebook</a>'\n",
              "            + ' to learn more about interactive tables.';\n",
              "          element.innerHTML = '';\n",
              "          dataTable['output_type'] = 'display_data';\n",
              "          await google.colab.output.renderOutput(dataTable, element);\n",
              "          const docLink = document.createElement('div');\n",
              "          docLink.innerHTML = docLinkHtml;\n",
              "          element.appendChild(docLink);\n",
              "        }\n",
              "      </script>\n",
              "    </div>\n",
              "  </div>\n",
              "  "
            ]
          },
          "metadata": {},
          "execution_count": 24
        }
      ],
      "source": [
        "# List of score per model\n",
        "cv_result = [\n",
        "    dtc_score, rfc_score, knn_score, logreg_score, nb_score]\n",
        "\n",
        "# Create dataframe for score every k-fold\n",
        "df_cv_result = pd.DataFrame(cv_result, index=model_name)\n",
        "df_cv_result"
      ]
    },
    {
      "cell_type": "code",
      "execution_count": 25,
      "metadata": {
        "id": "1quJ7Vfp6KYC"
      },
      "outputs": [],
      "source": [
        "# Calculate average for every k-fold validation\n",
        "cv_mean = []\n",
        "i = 0\n",
        "for mean in cv_result:\n",
        "    mean = cv_result[i].mean()\n",
        "    cv_mean.append(mean)\n",
        "    i += 1"
      ]
    },
    {
      "cell_type": "code",
      "execution_count": 26,
      "metadata": {
        "id": "9r-fMIJL6M5B"
      },
      "outputs": [],
      "source": [
        "# Calculate standard deviation for every k-fold validation\n",
        "cv_std = []\n",
        "i = 0 \n",
        "for std in cv_result:\n",
        "    std = cv_result[i].std()\n",
        "    cv_std.append(std)\n",
        "    i += 1"
      ]
    },
    {
      "cell_type": "code",
      "execution_count": 27,
      "metadata": {
        "colab": {
          "base_uri": "https://localhost:8080/",
          "height": 206
        },
        "id": "_rSZwMPY6Q-i",
        "outputId": "efb18700-17f9-455f-d198-b5ecd0cb0860"
      },
      "outputs": [
        {
          "output_type": "execute_result",
          "data": {
            "text/plain": [
              "                        score_mean  score_std\n",
              "LogisticRegression        0.765132   0.009110\n",
              "GaussianNB                0.741125   0.023477\n",
              "RandomForestClassifier    0.735122   0.015011\n",
              "KNeighborsClassifier      0.734796   0.003008\n",
              "DecisionTreeClassifier    0.642327   0.022836"
            ],
            "text/html": [
              "\n",
              "  <div id=\"df-659f1a15-a665-4f5d-8656-1db960895561\">\n",
              "    <div class=\"colab-df-container\">\n",
              "      <div>\n",
              "<style scoped>\n",
              "    .dataframe tbody tr th:only-of-type {\n",
              "        vertical-align: middle;\n",
              "    }\n",
              "\n",
              "    .dataframe tbody tr th {\n",
              "        vertical-align: top;\n",
              "    }\n",
              "\n",
              "    .dataframe thead th {\n",
              "        text-align: right;\n",
              "    }\n",
              "</style>\n",
              "<table border=\"1\" class=\"dataframe\">\n",
              "  <thead>\n",
              "    <tr style=\"text-align: right;\">\n",
              "      <th></th>\n",
              "      <th>score_mean</th>\n",
              "      <th>score_std</th>\n",
              "    </tr>\n",
              "  </thead>\n",
              "  <tbody>\n",
              "    <tr>\n",
              "      <th>LogisticRegression</th>\n",
              "      <td>0.765132</td>\n",
              "      <td>0.009110</td>\n",
              "    </tr>\n",
              "    <tr>\n",
              "      <th>GaussianNB</th>\n",
              "      <td>0.741125</td>\n",
              "      <td>0.023477</td>\n",
              "    </tr>\n",
              "    <tr>\n",
              "      <th>RandomForestClassifier</th>\n",
              "      <td>0.735122</td>\n",
              "      <td>0.015011</td>\n",
              "    </tr>\n",
              "    <tr>\n",
              "      <th>KNeighborsClassifier</th>\n",
              "      <td>0.734796</td>\n",
              "      <td>0.003008</td>\n",
              "    </tr>\n",
              "    <tr>\n",
              "      <th>DecisionTreeClassifier</th>\n",
              "      <td>0.642327</td>\n",
              "      <td>0.022836</td>\n",
              "    </tr>\n",
              "  </tbody>\n",
              "</table>\n",
              "</div>\n",
              "      <button class=\"colab-df-convert\" onclick=\"convertToInteractive('df-659f1a15-a665-4f5d-8656-1db960895561')\"\n",
              "              title=\"Convert this dataframe to an interactive table.\"\n",
              "              style=\"display:none;\">\n",
              "        \n",
              "  <svg xmlns=\"http://www.w3.org/2000/svg\" height=\"24px\"viewBox=\"0 0 24 24\"\n",
              "       width=\"24px\">\n",
              "    <path d=\"M0 0h24v24H0V0z\" fill=\"none\"/>\n",
              "    <path d=\"M18.56 5.44l.94 2.06.94-2.06 2.06-.94-2.06-.94-.94-2.06-.94 2.06-2.06.94zm-11 1L8.5 8.5l.94-2.06 2.06-.94-2.06-.94L8.5 2.5l-.94 2.06-2.06.94zm10 10l.94 2.06.94-2.06 2.06-.94-2.06-.94-.94-2.06-.94 2.06-2.06.94z\"/><path d=\"M17.41 7.96l-1.37-1.37c-.4-.4-.92-.59-1.43-.59-.52 0-1.04.2-1.43.59L10.3 9.45l-7.72 7.72c-.78.78-.78 2.05 0 2.83L4 21.41c.39.39.9.59 1.41.59.51 0 1.02-.2 1.41-.59l7.78-7.78 2.81-2.81c.8-.78.8-2.07 0-2.86zM5.41 20L4 18.59l7.72-7.72 1.47 1.35L5.41 20z\"/>\n",
              "  </svg>\n",
              "      </button>\n",
              "      \n",
              "  <style>\n",
              "    .colab-df-container {\n",
              "      display:flex;\n",
              "      flex-wrap:wrap;\n",
              "      gap: 12px;\n",
              "    }\n",
              "\n",
              "    .colab-df-convert {\n",
              "      background-color: #E8F0FE;\n",
              "      border: none;\n",
              "      border-radius: 50%;\n",
              "      cursor: pointer;\n",
              "      display: none;\n",
              "      fill: #1967D2;\n",
              "      height: 32px;\n",
              "      padding: 0 0 0 0;\n",
              "      width: 32px;\n",
              "    }\n",
              "\n",
              "    .colab-df-convert:hover {\n",
              "      background-color: #E2EBFA;\n",
              "      box-shadow: 0px 1px 2px rgba(60, 64, 67, 0.3), 0px 1px 3px 1px rgba(60, 64, 67, 0.15);\n",
              "      fill: #174EA6;\n",
              "    }\n",
              "\n",
              "    [theme=dark] .colab-df-convert {\n",
              "      background-color: #3B4455;\n",
              "      fill: #D2E3FC;\n",
              "    }\n",
              "\n",
              "    [theme=dark] .colab-df-convert:hover {\n",
              "      background-color: #434B5C;\n",
              "      box-shadow: 0px 1px 3px 1px rgba(0, 0, 0, 0.15);\n",
              "      filter: drop-shadow(0px 1px 2px rgba(0, 0, 0, 0.3));\n",
              "      fill: #FFFFFF;\n",
              "    }\n",
              "  </style>\n",
              "\n",
              "      <script>\n",
              "        const buttonEl =\n",
              "          document.querySelector('#df-659f1a15-a665-4f5d-8656-1db960895561 button.colab-df-convert');\n",
              "        buttonEl.style.display =\n",
              "          google.colab.kernel.accessAllowed ? 'block' : 'none';\n",
              "\n",
              "        async function convertToInteractive(key) {\n",
              "          const element = document.querySelector('#df-659f1a15-a665-4f5d-8656-1db960895561');\n",
              "          const dataTable =\n",
              "            await google.colab.kernel.invokeFunction('convertToInteractive',\n",
              "                                                     [key], {});\n",
              "          if (!dataTable) return;\n",
              "\n",
              "          const docLinkHtml = 'Like what you see? Visit the ' +\n",
              "            '<a target=\"_blank\" href=https://colab.research.google.com/notebooks/data_table.ipynb>data table notebook</a>'\n",
              "            + ' to learn more about interactive tables.';\n",
              "          element.innerHTML = '';\n",
              "          dataTable['output_type'] = 'display_data';\n",
              "          await google.colab.output.renderOutput(dataTable, element);\n",
              "          const docLink = document.createElement('div');\n",
              "          docLink.innerHTML = docLinkHtml;\n",
              "          element.appendChild(docLink);\n",
              "        }\n",
              "      </script>\n",
              "    </div>\n",
              "  </div>\n",
              "  "
            ]
          },
          "metadata": {},
          "execution_count": 27
        }
      ],
      "source": [
        "# Average and standard deviation score for each model\n",
        "df_cv = pd.DataFrame({'score_mean':cv_mean, 'score_std':cv_std}, index=model_name).sort_values(['score_mean', 'score_std'], ascending=[False, True])\n",
        "df_cv"
      ]
    },
    {
      "cell_type": "markdown",
      "metadata": {
        "id": "-vABm8_zdkx8"
      },
      "source": [
        "Pada eksperimen di atas, didapatkan nilai rata-rata akurasi dan standar deviasi setiap k_fold validation. Logistic regression memiliki performa terbaik dengan nilai rata-rata akurasi mencapai 76.51% dengan standar deviasi 0.009"
      ]
    },
    {
      "cell_type": "markdown",
      "metadata": {
        "id": "Dofr6fn79WgE"
      },
      "source": [
        "# Fit and Evaluation"
      ]
    },
    {
      "cell_type": "markdown",
      "metadata": {
        "id": "Z4RGbTw6eDSH"
      },
      "source": [
        "Selain dengan menggunakan cross validation, dilakukan pula uji nilai akurasi pada training dan testing yang bertujuan untuk melihat akurasi saat data training dan testing dan perbedaannya"
      ]
    },
    {
      "cell_type": "code",
      "execution_count": 28,
      "metadata": {
        "id": "yyhNfrE48kUs"
      },
      "outputs": [],
      "source": [
        "# Create a list to assign a model score\n",
        "train_score = []\n",
        "test_score = []\n",
        "\n",
        "# Create dataframe\n",
        "df_train_test = pd.DataFrame()\n",
        "for i in models:\n",
        "    # Fit each model\n",
        "    model = i.fit(X_train_over, y_train_over)\n",
        "    # accuracy for training set\n",
        "    train_score.append(model.score(X_train_over, y_train_over))\n",
        "    # accuracy for testing set\n",
        "    test_score.append(model.score(X_test, y_test))"
      ]
    },
    {
      "cell_type": "code",
      "execution_count": 29,
      "metadata": {
        "colab": {
          "base_uri": "https://localhost:8080/",
          "height": 206
        },
        "id": "pjvXSUm39e6_",
        "outputId": "e268d170-5240-45ac-80ab-87d73c8e3709"
      },
      "outputs": [
        {
          "output_type": "execute_result",
          "data": {
            "text/plain": [
              "                        train score  test score  difference\n",
              "DecisionTreeClassifier     0.997505    0.662398    0.335107\n",
              "RandomForestClassifier     0.997502    0.714761    0.282741\n",
              "KNeighborsClassifier       0.815830    0.607845    0.207985\n",
              "GaussianNB                 0.629288    0.648434    0.019146\n",
              "LogisticRegression         0.594610    0.535157    0.059454"
            ],
            "text/html": [
              "\n",
              "  <div id=\"df-a0eeed14-2807-4a55-ab4e-2517742c5ebe\">\n",
              "    <div class=\"colab-df-container\">\n",
              "      <div>\n",
              "<style scoped>\n",
              "    .dataframe tbody tr th:only-of-type {\n",
              "        vertical-align: middle;\n",
              "    }\n",
              "\n",
              "    .dataframe tbody tr th {\n",
              "        vertical-align: top;\n",
              "    }\n",
              "\n",
              "    .dataframe thead th {\n",
              "        text-align: right;\n",
              "    }\n",
              "</style>\n",
              "<table border=\"1\" class=\"dataframe\">\n",
              "  <thead>\n",
              "    <tr style=\"text-align: right;\">\n",
              "      <th></th>\n",
              "      <th>train score</th>\n",
              "      <th>test score</th>\n",
              "      <th>difference</th>\n",
              "    </tr>\n",
              "  </thead>\n",
              "  <tbody>\n",
              "    <tr>\n",
              "      <th>DecisionTreeClassifier</th>\n",
              "      <td>0.997505</td>\n",
              "      <td>0.662398</td>\n",
              "      <td>0.335107</td>\n",
              "    </tr>\n",
              "    <tr>\n",
              "      <th>RandomForestClassifier</th>\n",
              "      <td>0.997502</td>\n",
              "      <td>0.714761</td>\n",
              "      <td>0.282741</td>\n",
              "    </tr>\n",
              "    <tr>\n",
              "      <th>KNeighborsClassifier</th>\n",
              "      <td>0.815830</td>\n",
              "      <td>0.607845</td>\n",
              "      <td>0.207985</td>\n",
              "    </tr>\n",
              "    <tr>\n",
              "      <th>GaussianNB</th>\n",
              "      <td>0.629288</td>\n",
              "      <td>0.648434</td>\n",
              "      <td>0.019146</td>\n",
              "    </tr>\n",
              "    <tr>\n",
              "      <th>LogisticRegression</th>\n",
              "      <td>0.594610</td>\n",
              "      <td>0.535157</td>\n",
              "      <td>0.059454</td>\n",
              "    </tr>\n",
              "  </tbody>\n",
              "</table>\n",
              "</div>\n",
              "      <button class=\"colab-df-convert\" onclick=\"convertToInteractive('df-a0eeed14-2807-4a55-ab4e-2517742c5ebe')\"\n",
              "              title=\"Convert this dataframe to an interactive table.\"\n",
              "              style=\"display:none;\">\n",
              "        \n",
              "  <svg xmlns=\"http://www.w3.org/2000/svg\" height=\"24px\"viewBox=\"0 0 24 24\"\n",
              "       width=\"24px\">\n",
              "    <path d=\"M0 0h24v24H0V0z\" fill=\"none\"/>\n",
              "    <path d=\"M18.56 5.44l.94 2.06.94-2.06 2.06-.94-2.06-.94-.94-2.06-.94 2.06-2.06.94zm-11 1L8.5 8.5l.94-2.06 2.06-.94-2.06-.94L8.5 2.5l-.94 2.06-2.06.94zm10 10l.94 2.06.94-2.06 2.06-.94-2.06-.94-.94-2.06-.94 2.06-2.06.94z\"/><path d=\"M17.41 7.96l-1.37-1.37c-.4-.4-.92-.59-1.43-.59-.52 0-1.04.2-1.43.59L10.3 9.45l-7.72 7.72c-.78.78-.78 2.05 0 2.83L4 21.41c.39.39.9.59 1.41.59.51 0 1.02-.2 1.41-.59l7.78-7.78 2.81-2.81c.8-.78.8-2.07 0-2.86zM5.41 20L4 18.59l7.72-7.72 1.47 1.35L5.41 20z\"/>\n",
              "  </svg>\n",
              "      </button>\n",
              "      \n",
              "  <style>\n",
              "    .colab-df-container {\n",
              "      display:flex;\n",
              "      flex-wrap:wrap;\n",
              "      gap: 12px;\n",
              "    }\n",
              "\n",
              "    .colab-df-convert {\n",
              "      background-color: #E8F0FE;\n",
              "      border: none;\n",
              "      border-radius: 50%;\n",
              "      cursor: pointer;\n",
              "      display: none;\n",
              "      fill: #1967D2;\n",
              "      height: 32px;\n",
              "      padding: 0 0 0 0;\n",
              "      width: 32px;\n",
              "    }\n",
              "\n",
              "    .colab-df-convert:hover {\n",
              "      background-color: #E2EBFA;\n",
              "      box-shadow: 0px 1px 2px rgba(60, 64, 67, 0.3), 0px 1px 3px 1px rgba(60, 64, 67, 0.15);\n",
              "      fill: #174EA6;\n",
              "    }\n",
              "\n",
              "    [theme=dark] .colab-df-convert {\n",
              "      background-color: #3B4455;\n",
              "      fill: #D2E3FC;\n",
              "    }\n",
              "\n",
              "    [theme=dark] .colab-df-convert:hover {\n",
              "      background-color: #434B5C;\n",
              "      box-shadow: 0px 1px 3px 1px rgba(0, 0, 0, 0.15);\n",
              "      filter: drop-shadow(0px 1px 2px rgba(0, 0, 0, 0.3));\n",
              "      fill: #FFFFFF;\n",
              "    }\n",
              "  </style>\n",
              "\n",
              "      <script>\n",
              "        const buttonEl =\n",
              "          document.querySelector('#df-a0eeed14-2807-4a55-ab4e-2517742c5ebe button.colab-df-convert');\n",
              "        buttonEl.style.display =\n",
              "          google.colab.kernel.accessAllowed ? 'block' : 'none';\n",
              "\n",
              "        async function convertToInteractive(key) {\n",
              "          const element = document.querySelector('#df-a0eeed14-2807-4a55-ab4e-2517742c5ebe');\n",
              "          const dataTable =\n",
              "            await google.colab.kernel.invokeFunction('convertToInteractive',\n",
              "                                                     [key], {});\n",
              "          if (!dataTable) return;\n",
              "\n",
              "          const docLinkHtml = 'Like what you see? Visit the ' +\n",
              "            '<a target=\"_blank\" href=https://colab.research.google.com/notebooks/data_table.ipynb>data table notebook</a>'\n",
              "            + ' to learn more about interactive tables.';\n",
              "          element.innerHTML = '';\n",
              "          dataTable['output_type'] = 'display_data';\n",
              "          await google.colab.output.renderOutput(dataTable, element);\n",
              "          const docLink = document.createElement('div');\n",
              "          docLink.innerHTML = docLinkHtml;\n",
              "          element.appendChild(docLink);\n",
              "        }\n",
              "      </script>\n",
              "    </div>\n",
              "  </div>\n",
              "  "
            ]
          },
          "metadata": {},
          "execution_count": 29
        }
      ],
      "source": [
        "# Create a dataframe to store accuracy score\n",
        "df_avg_score = pd.DataFrame({\n",
        "    'train score':train_score,\n",
        "    'test score':test_score},\n",
        "    index=model_name)\n",
        "\n",
        "# Create a new column for the difference in accuracy score \n",
        "df_avg_score['difference'] = abs(df_avg_score['train score'] - df_avg_score['test score'])\n",
        "# Sort accuracy by smallest difference\n",
        "df_avg_score = df_avg_score.sort_values(['train score', 'test score','difference'], ascending=[False, False, True])\n",
        "df_avg_score"
      ]
    },
    {
      "cell_type": "markdown",
      "metadata": {
        "id": "92JuOojVedZP"
      },
      "source": [
        "Terlihat bahwa model Gaussian NB memiliki nilai perbedaan akurasi terkecil yaitu sekitar 1,91%, diikuti oleh model Logistic Regression dengan nilai sekitar 5,94%. Decision tree memiliki nilai akurasi yang sangat tinggi pada data training yaitu sekitar 99.75% sedangkan pada data testing nilai akurasinya berkurang menjadi sekitar 66.23%"
      ]
    },
    {
      "cell_type": "markdown",
      "metadata": {
        "id": "rVpvURpB-_7h"
      },
      "source": [
        "## Cross Validation for Some Metrics"
      ]
    },
    {
      "cell_type": "markdown",
      "metadata": {
        "id": "iwGVKza1fPqB"
      },
      "source": [
        "Selanjutnya dilakukan cross validation untuk mengukur performa model dengan beberapa metrik yaitu accuracy, precision, recaal dan f1-score"
      ]
    },
    {
      "cell_type": "code",
      "execution_count": 30,
      "metadata": {
        "colab": {
          "base_uri": "https://localhost:8080/"
        },
        "id": "WzdvNfbU_GL-",
        "outputId": "46b47ae0-1a50-4db8-e977-d52e1634bcbf"
      },
      "outputs": [
        {
          "output_type": "stream",
          "name": "stderr",
          "text": [
            "[Parallel(n_jobs=-1)]: Using backend LokyBackend with 2 concurrent workers.\n",
            "[Parallel(n_jobs=-1)]: Done   5 out of   5 | elapsed:    7.3s finished\n",
            "[Parallel(n_jobs=-1)]: Using backend LokyBackend with 2 concurrent workers.\n",
            "/usr/local/lib/python3.7/dist-packages/joblib/externals/loky/process_executor.py:705: UserWarning: A worker stopped while some jobs were given to the executor. This can be caused by a too short worker timeout or by a memory leak.\n",
            "  \"timeout or by a memory leak.\", UserWarning\n",
            "[Parallel(n_jobs=-1)]: Done   5 out of   5 | elapsed:  2.6min finished\n",
            "[Parallel(n_jobs=-1)]: Using backend LokyBackend with 2 concurrent workers.\n",
            "[Parallel(n_jobs=-1)]: Done   5 out of   5 | elapsed:   11.2s finished\n",
            "[Parallel(n_jobs=-1)]: Using backend LokyBackend with 2 concurrent workers.\n",
            "[Parallel(n_jobs=-1)]: Done   5 out of   5 | elapsed:    7.2s finished\n",
            "[Parallel(n_jobs=-1)]: Using backend LokyBackend with 2 concurrent workers.\n",
            "[Parallel(n_jobs=-1)]: Done   5 out of   5 | elapsed:    0.7s finished\n"
          ]
        }
      ],
      "source": [
        "# Cross validation for each model\n",
        "dtc_score = cross_validate(models[0], X, y, scoring=('accuracy', 'precision', 'recall', 'f1'), cv=5, n_jobs=-1, verbose=1)\n",
        "rfc_score = cross_validate(models[1], X, y, scoring=('accuracy', 'precision', 'recall', 'f1'), cv=5, n_jobs=-1, verbose=1)\n",
        "knn_score = cross_validate(models[2], X, y, scoring=('accuracy', 'precision', 'recall', 'f1'), cv=5, n_jobs=-1, verbose=1)\n",
        "logreg_score = cross_validate(models[3], X, y, scoring=('accuracy', 'precision', 'recall', 'f1'), cv=5, n_jobs=-1, verbose=1)\n",
        "nb_score = cross_validate(models[4], X, y, scoring=('accuracy', 'precision', 'recall', 'f1'), cv=5, n_jobs=-1, verbose=1)"
      ]
    },
    {
      "cell_type": "code",
      "execution_count": 31,
      "metadata": {
        "colab": {
          "base_uri": "https://localhost:8080/",
          "height": 206
        },
        "id": "xh3k75KEAfND",
        "outputId": "3ea5b226-47bf-4ad9-cd38-55a01b8afa65"
      },
      "outputs": [
        {
          "output_type": "execute_result",
          "data": {
            "text/plain": [
              "                    Model   fit_time  score_time  test_accuracy  \\\n",
              "0      LogisticRegression   2.589415    0.077725       0.765132   \n",
              "1              GaussianNB   0.121840    0.109981       0.741125   \n",
              "2  RandomForestClassifier  51.113622    2.185909       0.736539   \n",
              "3    KNeighborsClassifier   0.661628    3.373562       0.734796   \n",
              "4  DecisionTreeClassifier   1.936421    0.111274       0.642926   \n",
              "\n",
              "   test_precision  test_recall   test_f1  \n",
              "0        0.776366     0.977336  0.865079  \n",
              "1        0.811604     0.866115  0.837047  \n",
              "2        0.786761     0.903426  0.840858  \n",
              "3        0.783563     0.906709  0.840612  \n",
              "4        0.787246     0.736171  0.760252  "
            ],
            "text/html": [
              "\n",
              "  <div id=\"df-97cc43b5-a628-474f-9570-4727b34b2eb3\">\n",
              "    <div class=\"colab-df-container\">\n",
              "      <div>\n",
              "<style scoped>\n",
              "    .dataframe tbody tr th:only-of-type {\n",
              "        vertical-align: middle;\n",
              "    }\n",
              "\n",
              "    .dataframe tbody tr th {\n",
              "        vertical-align: top;\n",
              "    }\n",
              "\n",
              "    .dataframe thead th {\n",
              "        text-align: right;\n",
              "    }\n",
              "</style>\n",
              "<table border=\"1\" class=\"dataframe\">\n",
              "  <thead>\n",
              "    <tr style=\"text-align: right;\">\n",
              "      <th></th>\n",
              "      <th>Model</th>\n",
              "      <th>fit_time</th>\n",
              "      <th>score_time</th>\n",
              "      <th>test_accuracy</th>\n",
              "      <th>test_precision</th>\n",
              "      <th>test_recall</th>\n",
              "      <th>test_f1</th>\n",
              "    </tr>\n",
              "  </thead>\n",
              "  <tbody>\n",
              "    <tr>\n",
              "      <th>0</th>\n",
              "      <td>LogisticRegression</td>\n",
              "      <td>2.589415</td>\n",
              "      <td>0.077725</td>\n",
              "      <td>0.765132</td>\n",
              "      <td>0.776366</td>\n",
              "      <td>0.977336</td>\n",
              "      <td>0.865079</td>\n",
              "    </tr>\n",
              "    <tr>\n",
              "      <th>1</th>\n",
              "      <td>GaussianNB</td>\n",
              "      <td>0.121840</td>\n",
              "      <td>0.109981</td>\n",
              "      <td>0.741125</td>\n",
              "      <td>0.811604</td>\n",
              "      <td>0.866115</td>\n",
              "      <td>0.837047</td>\n",
              "    </tr>\n",
              "    <tr>\n",
              "      <th>2</th>\n",
              "      <td>RandomForestClassifier</td>\n",
              "      <td>51.113622</td>\n",
              "      <td>2.185909</td>\n",
              "      <td>0.736539</td>\n",
              "      <td>0.786761</td>\n",
              "      <td>0.903426</td>\n",
              "      <td>0.840858</td>\n",
              "    </tr>\n",
              "    <tr>\n",
              "      <th>3</th>\n",
              "      <td>KNeighborsClassifier</td>\n",
              "      <td>0.661628</td>\n",
              "      <td>3.373562</td>\n",
              "      <td>0.734796</td>\n",
              "      <td>0.783563</td>\n",
              "      <td>0.906709</td>\n",
              "      <td>0.840612</td>\n",
              "    </tr>\n",
              "    <tr>\n",
              "      <th>4</th>\n",
              "      <td>DecisionTreeClassifier</td>\n",
              "      <td>1.936421</td>\n",
              "      <td>0.111274</td>\n",
              "      <td>0.642926</td>\n",
              "      <td>0.787246</td>\n",
              "      <td>0.736171</td>\n",
              "      <td>0.760252</td>\n",
              "    </tr>\n",
              "  </tbody>\n",
              "</table>\n",
              "</div>\n",
              "      <button class=\"colab-df-convert\" onclick=\"convertToInteractive('df-97cc43b5-a628-474f-9570-4727b34b2eb3')\"\n",
              "              title=\"Convert this dataframe to an interactive table.\"\n",
              "              style=\"display:none;\">\n",
              "        \n",
              "  <svg xmlns=\"http://www.w3.org/2000/svg\" height=\"24px\"viewBox=\"0 0 24 24\"\n",
              "       width=\"24px\">\n",
              "    <path d=\"M0 0h24v24H0V0z\" fill=\"none\"/>\n",
              "    <path d=\"M18.56 5.44l.94 2.06.94-2.06 2.06-.94-2.06-.94-.94-2.06-.94 2.06-2.06.94zm-11 1L8.5 8.5l.94-2.06 2.06-.94-2.06-.94L8.5 2.5l-.94 2.06-2.06.94zm10 10l.94 2.06.94-2.06 2.06-.94-2.06-.94-.94-2.06-.94 2.06-2.06.94z\"/><path d=\"M17.41 7.96l-1.37-1.37c-.4-.4-.92-.59-1.43-.59-.52 0-1.04.2-1.43.59L10.3 9.45l-7.72 7.72c-.78.78-.78 2.05 0 2.83L4 21.41c.39.39.9.59 1.41.59.51 0 1.02-.2 1.41-.59l7.78-7.78 2.81-2.81c.8-.78.8-2.07 0-2.86zM5.41 20L4 18.59l7.72-7.72 1.47 1.35L5.41 20z\"/>\n",
              "  </svg>\n",
              "      </button>\n",
              "      \n",
              "  <style>\n",
              "    .colab-df-container {\n",
              "      display:flex;\n",
              "      flex-wrap:wrap;\n",
              "      gap: 12px;\n",
              "    }\n",
              "\n",
              "    .colab-df-convert {\n",
              "      background-color: #E8F0FE;\n",
              "      border: none;\n",
              "      border-radius: 50%;\n",
              "      cursor: pointer;\n",
              "      display: none;\n",
              "      fill: #1967D2;\n",
              "      height: 32px;\n",
              "      padding: 0 0 0 0;\n",
              "      width: 32px;\n",
              "    }\n",
              "\n",
              "    .colab-df-convert:hover {\n",
              "      background-color: #E2EBFA;\n",
              "      box-shadow: 0px 1px 2px rgba(60, 64, 67, 0.3), 0px 1px 3px 1px rgba(60, 64, 67, 0.15);\n",
              "      fill: #174EA6;\n",
              "    }\n",
              "\n",
              "    [theme=dark] .colab-df-convert {\n",
              "      background-color: #3B4455;\n",
              "      fill: #D2E3FC;\n",
              "    }\n",
              "\n",
              "    [theme=dark] .colab-df-convert:hover {\n",
              "      background-color: #434B5C;\n",
              "      box-shadow: 0px 1px 3px 1px rgba(0, 0, 0, 0.15);\n",
              "      filter: drop-shadow(0px 1px 2px rgba(0, 0, 0, 0.3));\n",
              "      fill: #FFFFFF;\n",
              "    }\n",
              "  </style>\n",
              "\n",
              "      <script>\n",
              "        const buttonEl =\n",
              "          document.querySelector('#df-97cc43b5-a628-474f-9570-4727b34b2eb3 button.colab-df-convert');\n",
              "        buttonEl.style.display =\n",
              "          google.colab.kernel.accessAllowed ? 'block' : 'none';\n",
              "\n",
              "        async function convertToInteractive(key) {\n",
              "          const element = document.querySelector('#df-97cc43b5-a628-474f-9570-4727b34b2eb3');\n",
              "          const dataTable =\n",
              "            await google.colab.kernel.invokeFunction('convertToInteractive',\n",
              "                                                     [key], {});\n",
              "          if (!dataTable) return;\n",
              "\n",
              "          const docLinkHtml = 'Like what you see? Visit the ' +\n",
              "            '<a target=\"_blank\" href=https://colab.research.google.com/notebooks/data_table.ipynb>data table notebook</a>'\n",
              "            + ' to learn more about interactive tables.';\n",
              "          element.innerHTML = '';\n",
              "          dataTable['output_type'] = 'display_data';\n",
              "          await google.colab.output.renderOutput(dataTable, element);\n",
              "          const docLink = document.createElement('div');\n",
              "          docLink.innerHTML = docLinkHtml;\n",
              "          element.appendChild(docLink);\n",
              "        }\n",
              "      </script>\n",
              "    </div>\n",
              "  </div>\n",
              "  "
            ]
          },
          "metadata": {},
          "execution_count": 31
        }
      ],
      "source": [
        "cv_result = [dtc_score, rfc_score, knn_score, logreg_score, nb_score]\n",
        "\n",
        "# Average score for each metrics\n",
        "df_cv_result = pd.DataFrame(cv_result, index=model_name).applymap(np.mean)\n",
        "df_cv_result = df_cv_result.sort_values(['test_accuracy','test_precision'], ascending=False)\n",
        "df_cv_result = df_cv_result.reset_index()\n",
        "df_cv_result.rename(columns={'index':'Model'}, inplace=True)\n",
        "df_cv_result"
      ]
    },
    {
      "cell_type": "markdown",
      "metadata": {
        "id": "CqtPtgDVf1ID"
      },
      "source": [
        "Dari hasil diatas, LogisticRegression memiliki nilai akurasi dan recall yang paling tinggi dari keseluruhan model. Pada kasus ini selain nilai akurasi yang diperhitungkan, recall juga akan diperhitungkan karena model yang baik adalah model yang dapat mengklasifikasi lebih banyak False Positive(FP) daripada False Negative (FN). FP pada kasus ini yaitu model memprediksi peminjam bad borrower, tetapi sebenarnya tidak. Maka FP lebih baik daripada FN. FN yaitu model memprediksi peminjam merupakan good borrower tetapi sebenarnya bad, dan hal ini dapat menyebabkan semakin banyak peminjam yang memiliki predikat bad borrower\n",
        "\n",
        "\n",
        "\n",
        "> Dari keseluruhan proses diatas, maka dipilih model Logistic Regression karena memiliki nilai accuracy dan recall yang cukup tinggi\n",
        "\n",
        "\n",
        "\n"
      ]
    },
    {
      "cell_type": "markdown",
      "metadata": {
        "id": "etlF-6gzg1u8"
      },
      "source": [
        "# Logistic Regression"
      ]
    },
    {
      "cell_type": "code",
      "execution_count": 32,
      "metadata": {
        "colab": {
          "base_uri": "https://localhost:8080/"
        },
        "id": "oxLXBK8HkDIf",
        "outputId": "7a302f49-fd3e-4700-efee-2f9c316a2890"
      },
      "outputs": [
        {
          "output_type": "stream",
          "name": "stdout",
          "text": [
            "Training Accuracy : 76.79%\n",
            "Test Accuracy : 76.43%\n",
            "Precision Score : 77.32%\n",
            "Recall Score : 98.14%\n",
            "F1 Score : 86.49%\n"
          ]
        }
      ],
      "source": [
        "logreg = LogisticRegression()\n",
        "logreg.fit(X_train, y_train)\n",
        "lr_pred = logreg.predict(X_test)\n",
        "\n",
        "# Calculate accuracy, precision, recall, and f1-score\n",
        "train_score_def = round((logreg.score(X_train, y_train) * 100), 2)\n",
        "test_score_def = round((logreg.score(X_test, y_test) * 100), 2)\n",
        "prec_score_def = round((precision_score(y_test, lr_pred)) * 100, 2)\n",
        "recall_score_def = round((recall_score(y_test, lr_pred)) * 100, 2)\n",
        "f1_def = round(f1_score(y_test, lr_pred)*100, 2)\n",
        "\n",
        "print('Training Accuracy : {}%'.format(train_score_def))\n",
        "print('Test Accuracy : {}%'.format(test_score_def))\n",
        "print('Precision Score : {}%'.format(prec_score_def))\n",
        "print('Recall Score : {}%'.format(recall_score_def))\n",
        "print('F1 Score : {}%'.format(f1_def))"
      ]
    },
    {
      "cell_type": "code",
      "execution_count": 34,
      "metadata": {
        "colab": {
          "base_uri": "https://localhost:8080/",
          "height": 396
        },
        "id": "o5OeFI1pWB3g",
        "outputId": "66a091ba-0a40-4b07-a013-0ef868b01dc9"
      },
      "outputs": [
        {
          "output_type": "stream",
          "name": "stdout",
          "text": [
            "[[  470 10718]\n",
            " [  694 36530]]\n"
          ]
        },
        {
          "output_type": "display_data",
          "data": {
            "text/plain": [
              "<Figure size 576x396 with 2 Axes>"
            ],
            "image/png": "[encoded data removed]"
          },
          "metadata": {}
        }
      ],
      "source": [
        "import matplotlib.pyplot as plt\n",
        "\n",
        "# Confusion Matrix\n",
        "cm = confusion_matrix(y_test, lr_pred)\n",
        "print(cm)\n",
        "ConfusionMatrixDisplay(cm).plot()\n",
        "plt.show()"
      ]
    },
    {
      "cell_type": "code",
      "execution_count": 35,
      "metadata": {
        "colab": {
          "base_uri": "https://localhost:8080/"
        },
        "id": "Eumt1sKJWVi7",
        "outputId": "5d0e8748-fa11-4aa6-ad87-4f9ca787ce13"
      },
      "outputs": [
        {
          "output_type": "stream",
          "name": "stdout",
          "text": [
            "              precision    recall  f1-score   support\n",
            "\n",
            "           0       0.40      0.04      0.08     11188\n",
            "           1       0.77      0.98      0.86     37224\n",
            "\n",
            "    accuracy                           0.76     48412\n",
            "   macro avg       0.59      0.51      0.47     48412\n",
            "weighted avg       0.69      0.76      0.68     48412\n",
            "\n"
          ]
        }
      ],
      "source": [
        "print(classification_report(y_test,lr_pred))"
      ]
    },
    {
      "cell_type": "markdown",
      "metadata": {
        "id": "4pK35axmiTVO"
      },
      "source": [
        "Dari hasil thresholds adjusment dapat dilihat bahwa hasilnya terdapat  37.224 berhasil diklasifikasi sebagai good borrower (1) dan sebanyak 11.188 diklasifikasi sebagai bad borrower (0)"
      ]
    },
    {
      "cell_type": "markdown",
      "metadata": {
        "id": "8b955f9d"
      },
      "source": [
        "## Precision Recall and ROC Curve"
      ]
    },
    {
      "cell_type": "code",
      "execution_count": 44,
      "metadata": {
        "id": "1a963c3b"
      },
      "outputs": [],
      "source": [
        "# Precision Recall Curve\n",
        "lr_pred = logreg.predict_proba(X_test)[:,1]\n",
        "prec, recall, _ = precision_recall_curve(y_test, lr_pred, pos_label=logreg.classes_[1])\n",
        "pr_display = PrecisionRecallDisplay(prec, recall)"
      ]
    },
    {
      "cell_type": "code",
      "execution_count": 45,
      "metadata": {
        "id": "06ff9491"
      },
      "outputs": [],
      "source": [
        "# ROC Curve\n",
        "fpr, tpr, _ = roc_curve(y_test, lr_pred, pos_label=logreg.classes_[1])\n",
        "roc_display = RocCurveDisplay(fpr=fpr, tpr=tpr)"
      ]
    },
    {
      "cell_type": "code",
      "execution_count": 46,
      "metadata": {
        "id": "6e5c2e43",
        "outputId": "7771bb26-3d17-473b-a8f5-e4afa15f98ea",
        "colab": {
          "base_uri": "https://localhost:8080/",
          "height": 368
        }
      },
      "outputs": [
        {
          "output_type": "stream",
          "name": "stdout",
          "text": [
            "ROC AUC Score is : 0.6615518820593217\n"
          ]
        },
        {
          "output_type": "display_data",
          "data": {
            "text/plain": [
              "<Figure size 864x360 with 2 Axes>"
            ],
            "image/png": "[encoded data removed]"
          },
          "metadata": {}
        }
      ],
      "source": [
        "# roc auc score\n",
        "auc_score = roc_auc_score(y_test, lr_pred)\n",
        "print(f'ROC AUC Score is : {auc_score}')\n",
        "\n",
        "# Plotting Precision Recall and ROC Curve\n",
        "fig, (ax1, ax2) = plt.subplots(1, 2, figsize=(12, 5))\n",
        "\n",
        "pr_display.plot(ax=ax1)\n",
        "roc_display.plot(ax=ax2)\n",
        "ax1.set_title('Precision Recall Curve', fontsize=15, fontweight='bold')\n",
        "ax2.set_title('ROC Curve', fontsize=15, fontweight='bold')\n",
        "plt.show()"
      ]
    },
    {
      "cell_type": "code",
      "source": [
        "import pickle\n",
        "\n",
        "filename = 'lr_model.sav'\n",
        "pickle.dump(logreg, open(filename, 'wb'))"
      ],
      "metadata": {
        "id": "e3pSvB-2G9kW"
      },
      "execution_count": 48,
      "outputs": []
    }
  ]
}